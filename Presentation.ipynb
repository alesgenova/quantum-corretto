{
 "cells": [
  {
   "cell_type": "code",
   "execution_count": 2,
   "metadata": {
    "collapsed": false,
    "slideshow": {
     "slide_type": "skip"
    }
   },
   "outputs": [],
   "source": [
    "import numpy as np\n",
    "import codeblocks as cb\n",
    "\n",
    "\n",
    "%load_ext autoreload\n",
    "%autoreload 2"
   ]
  },
  {
   "cell_type": "markdown",
   "metadata": {
    "slideshow": {
     "slide_type": "slide"
    }
   },
   "source": [
    "# Path to eQE 2.0\n",
    "\n",
    "\n",
    "### Alessandro Genova\n",
    "\n",
    "### Sudheer Kumar P."
   ]
  },
  {
   "cell_type": "markdown",
   "metadata": {
    "slideshow": {
     "slide_type": "slide"
    }
   },
   "source": [
    "## The problem\n",
    "embedded Quantum ESPRESSO is a fast and capable software, but it's also written with poor coding standards. Thus developing and extending the codebase is extremely painful and prone to errors (trust him, he wrote it).\n",
    "\n",
    "The main reason why the situation is so dire, is that eQE is entangled with the Quantum Espresso (QE) code, and QE happens to have huge flaws in the way it is written."
   ]
  },
  {
   "cell_type": "markdown",
   "metadata": {
    "slideshow": {
     "slide_type": "slide"
    }
   },
   "source": [
    "What we believe is the worst problem is that QE is not compliant to <i>functional paradigm</i> standards.\n",
    "\n",
    "> In computer science, functional programming is a programming paradigm—a style of building the structure and elements of computer programs—that treats computation as the evaluation of mathematical functions and avoids changing-state and mutable data.\n",
    "\n",
    "\n",
    "#### But what does it mean?\n",
    "\n",
    "A function provided the same inputs should always return the same output.\n",
    "Let's see some code:"
   ]
  },
  {
   "cell_type": "markdown",
   "metadata": {
    "slideshow": {
     "slide_type": "slide"
    }
   },
   "source": [
    "##### The logical way (eQE 2.0)"
   ]
  },
  {
   "cell_type": "code",
   "execution_count": 3,
   "metadata": {
    "collapsed": true,
    "slideshow": {
     "slide_type": "fragment"
    }
   },
   "outputs": [],
   "source": [
    "def f0(x,y,l):\n",
    "    l.append(x)\n",
    "    l.append(y)\n",
    "    return l"
   ]
  },
  {
   "cell_type": "markdown",
   "metadata": {
    "slideshow": {
     "slide_type": "slide"
    }
   },
   "source": [
    "##### The I-hate-myself way (QE / eQE 1.0)"
   ]
  },
  {
   "cell_type": "code",
   "execution_count": 2,
   "metadata": {
    "collapsed": true,
    "slideshow": {
     "slide_type": "fragment"
    }
   },
   "outputs": [],
   "source": [
    "l = []\n",
    "\n",
    "def f1(x,y):\n",
    "    l.append(x)\n",
    "    l.append(y)\n",
    "    return l"
   ]
  },
  {
   "cell_type": "markdown",
   "metadata": {
    "slideshow": {
     "slide_type": "slide"
    }
   },
   "source": [
    "##### Runtime\n",
    "calling routines with the same parameters multiple times"
   ]
  },
  {
   "cell_type": "code",
   "execution_count": 7,
   "metadata": {
    "collapsed": false,
    "slideshow": {
     "slide_type": "fragment"
    }
   },
   "outputs": [
    {
     "name": "stdout",
     "output_type": "stream",
     "text": [
      "f0:  [1, 2]\n",
      "f1:  [1, 2, 1, 2, 1, 2, 1, 2]\n"
     ]
    }
   ],
   "source": [
    "print( \"f0: \", f0(1,2,[]) )\n",
    "print( \"f1: \", f1(1,2) )"
   ]
  },
  {
   "cell_type": "markdown",
   "metadata": {
    "slideshow": {
     "slide_type": "slide"
    }
   },
   "source": [
    "## The solution\n",
    "\n",
    "To improve eQE, it is vital to make QE better.\n",
    "\n",
    "If the QE base was written in a logical functional way, it would be so much easier to disentangle the special case subsystem approach, and have the two codes live independently.\n",
    "\n",
    "Since QE developers wouldn't do it, we decided to fix it ourselves.\n",
    "\n",
    "QE is several million lines long, and adapting it to the functional paradigm by hand not only would be extremely tedious, but it would need to be done over and over for each new major release.\n",
    "\n",
    "We hate boring, so we'll have the computer do it for us!"
   ]
  },
  {
   "cell_type": "markdown",
   "metadata": {
    "slideshow": {
     "slide_type": "slide"
    }
   },
   "source": [
    "### Phase 0: mapping (80% complete)\n",
    "\n",
    "Generate a script to create a map of the sourcecode.\n",
    "For each `f90` file we need to know:\n",
    "- Which modules/function/subroutines are there\n",
    "- The parent/child relation between blocks of code\n",
    "- Which are the arguments of a function/routine\n",
    "- Which quantities are in each module\n",
    "- Which quantities are imported from external modules (<strong>the source of the problem</strong>)\n",
    "\n",
    "The mapping script is already almost complete, here it is scanning the entire QE source code."
   ]
  },
  {
   "cell_type": "code",
   "execution_count": 3,
   "metadata": {
    "collapsed": false,
    "slideshow": {
     "slide_type": "slide"
    }
   },
   "outputs": [
    {
     "ename": "TypeError",
     "evalue": "Can't convert 'tuple' object to str implicitly",
     "output_type": "error",
     "traceback": [
      "\u001b[0;31m---------------------------------------------------------------------------\u001b[0m",
      "\u001b[0;31mTypeError\u001b[0m                                 Traceback (most recent call last)",
      "\u001b[0;32m<ipython-input-3-5bf126257823>\u001b[0m in \u001b[0;36m<module>\u001b[0;34m()\u001b[0m\n\u001b[1;32m      5\u001b[0m     \u001b[0;32mif\u001b[0m \u001b[0mifile\u001b[0m \u001b[0;34m>\u001b[0m \u001b[0;36m9\u001b[0m\u001b[0;34m:\u001b[0m\u001b[0;34m\u001b[0m\u001b[0m\n\u001b[1;32m      6\u001b[0m         \u001b[0;32mbreak\u001b[0m\u001b[0;34m\u001b[0m\u001b[0m\n\u001b[0;32m----> 7\u001b[0;31m \u001b[0mQE\u001b[0m\u001b[0;34m.\u001b[0m\u001b[0mscan_sources\u001b[0m\u001b[0;34m(\u001b[0m\u001b[0;34m)\u001b[0m\u001b[0;34m\u001b[0m\u001b[0m\n\u001b[0m\u001b[1;32m      8\u001b[0m \u001b[0mQE\u001b[0m\u001b[0;34m.\u001b[0m\u001b[0mmake_project_tree\u001b[0m\u001b[0;34m(\u001b[0m\u001b[0;34m)\u001b[0m\u001b[0;34m\u001b[0m\u001b[0m\n",
      "\u001b[0;32m/home/alessandro/Documents/PhD/fQEpy/codeblocks.py\u001b[0m in \u001b[0;36mscan_sources\u001b[0;34m(self)\u001b[0m\n\u001b[1;32m     80\u001b[0m         \u001b[0;32mfor\u001b[0m \u001b[0msrc\u001b[0m \u001b[0;32min\u001b[0m \u001b[0mself\u001b[0m\u001b[0;34m.\u001b[0m\u001b[0msources\u001b[0m\u001b[0;34m:\u001b[0m\u001b[0;34m\u001b[0m\u001b[0m\n\u001b[1;32m     81\u001b[0m             \u001b[0;31m#print('Scanning', src.name)\u001b[0m\u001b[0;34m\u001b[0m\u001b[0;34m\u001b[0m\u001b[0m\n\u001b[0;32m---> 82\u001b[0;31m             \u001b[0msrc\u001b[0m\u001b[0;34m.\u001b[0m\u001b[0mscan\u001b[0m\u001b[0;34m(\u001b[0m\u001b[0;34m)\u001b[0m\u001b[0;34m\u001b[0m\u001b[0m\n\u001b[0m\u001b[1;32m     83\u001b[0m \u001b[0;34m\u001b[0m\u001b[0m\n\u001b[1;32m     84\u001b[0m     \u001b[0;32mdef\u001b[0m \u001b[0mmake_project_tree\u001b[0m\u001b[0;34m(\u001b[0m\u001b[0mself\u001b[0m\u001b[0;34m)\u001b[0m\u001b[0;34m:\u001b[0m\u001b[0;34m\u001b[0m\u001b[0m\n",
      "\u001b[0;32m/home/alessandro/Documents/PhD/fQEpy/codeblocks.py\u001b[0m in \u001b[0;36mscan\u001b[0;34m(self)\u001b[0m\n\u001b[1;32m    144\u001b[0m \u001b[0;34m\u001b[0m\u001b[0m\n\u001b[1;32m    145\u001b[0m                 \u001b[0;32mif\u001b[0m \u001b[0mlen\u001b[0m\u001b[0;34m(\u001b[0m\u001b[0mself\u001b[0m\u001b[0;34m.\u001b[0m\u001b[0mlines\u001b[0m\u001b[0;34m[\u001b[0m\u001b[0;34m-\u001b[0m\u001b[0;36m1\u001b[0m\u001b[0;34m]\u001b[0m\u001b[0;34m.\u001b[0m\u001b[0mbare\u001b[0m\u001b[0;34m)\u001b[0m \u001b[0;34m>\u001b[0m \u001b[0;36m0\u001b[0m \u001b[0;34m:\u001b[0m\u001b[0;34m\u001b[0m\u001b[0m\n\u001b[0;32m--> 146\u001b[0;31m                     \u001b[0moutput\u001b[0m \u001b[0;34m=\u001b[0m \u001b[0mline_to_context\u001b[0m\u001b[0;34m(\u001b[0m\u001b[0mself\u001b[0m\u001b[0;34m.\u001b[0m\u001b[0mlines\u001b[0m\u001b[0;34m[\u001b[0m\u001b[0;34m-\u001b[0m\u001b[0;36m1\u001b[0m\u001b[0;34m]\u001b[0m\u001b[0;34m.\u001b[0m\u001b[0mbare\u001b[0m\u001b[0;34m,\u001b[0m\u001b[0mcontext\u001b[0m\u001b[0;34m)\u001b[0m\u001b[0;34m\u001b[0m\u001b[0m\n\u001b[0m\u001b[1;32m    147\u001b[0m                     \u001b[0;31m#print(output,context)\u001b[0m\u001b[0;34m\u001b[0m\u001b[0;34m\u001b[0m\u001b[0m\n\u001b[1;32m    148\u001b[0m                     \u001b[0;32mif\u001b[0m \u001b[0mabs\u001b[0m\u001b[0;34m(\u001b[0m\u001b[0moutput\u001b[0m\u001b[0;34m)\u001b[0m \u001b[0;34m==\u001b[0m \u001b[0;36m1\u001b[0m\u001b[0;34m:\u001b[0m\u001b[0;34m\u001b[0m\u001b[0m\n",
      "\u001b[0;32m/home/alessandro/Documents/PhD/fQEpy/codeblocks.py\u001b[0m in \u001b[0;36mline_to_context\u001b[0;34m(line, context)\u001b[0m\n\u001b[1;32m    247\u001b[0m     \u001b[0;32mif\u001b[0m \u001b[0mmo\u001b[0m \u001b[0;32mis\u001b[0m \u001b[0;32mnot\u001b[0m \u001b[0;32mNone\u001b[0m\u001b[0;34m:\u001b[0m\u001b[0;34m\u001b[0m\u001b[0m\n\u001b[1;32m    248\u001b[0m         \u001b[0;31m#chk += 1\u001b[0m\u001b[0;34m\u001b[0m\u001b[0;34m\u001b[0m\u001b[0m\n\u001b[0;32m--> 249\u001b[0;31m         \u001b[0mcurr_context\u001b[0m\u001b[0;34m.\u001b[0m\u001b[0madd_import\u001b[0m\u001b[0;34m(\u001b[0m\u001b[0mmo\u001b[0m\u001b[0;34m.\u001b[0m\u001b[0mgroup\u001b[0m\u001b[0;34m(\u001b[0m\u001b[0;36m1\u001b[0m\u001b[0;34m)\u001b[0m\u001b[0;34m,\u001b[0m \u001b[0mmo\u001b[0m\u001b[0;34m.\u001b[0m\u001b[0mgroup\u001b[0m\u001b[0;34m(\u001b[0m\u001b[0;36m2\u001b[0m\u001b[0;34m)\u001b[0m\u001b[0;34m)\u001b[0m\u001b[0;34m\u001b[0m\u001b[0m\n\u001b[0m\u001b[1;32m    250\u001b[0m         \u001b[0;32mreturn\u001b[0m \u001b[0mchk\u001b[0m\u001b[0;34m\u001b[0m\u001b[0m\n\u001b[1;32m    251\u001b[0m \u001b[0;34m\u001b[0m\u001b[0m\n",
      "\u001b[0;32m/home/alessandro/Documents/PhD/fQEpy/codeblocks.py\u001b[0m in \u001b[0;36madd_import\u001b[0;34m(self, modulename, variables)\u001b[0m\n\u001b[1;32m     97\u001b[0m \u001b[0;34m\u001b[0m\u001b[0m\n\u001b[1;32m     98\u001b[0m     \u001b[0;32mdef\u001b[0m \u001b[0madd_import\u001b[0m\u001b[0;34m(\u001b[0m\u001b[0mself\u001b[0m\u001b[0;34m,\u001b[0m \u001b[0mmodulename\u001b[0m\u001b[0;34m,\u001b[0m \u001b[0mvariables\u001b[0m\u001b[0;34m)\u001b[0m\u001b[0;34m:\u001b[0m\u001b[0;34m\u001b[0m\u001b[0m\n\u001b[0;32m---> 99\u001b[0;31m         \u001b[0mself\u001b[0m\u001b[0;34m.\u001b[0m\u001b[0mimports\u001b[0m\u001b[0;34m[\u001b[0m\u001b[0mmodulename\u001b[0m\u001b[0;34m]\u001b[0m\u001b[0;34m,\u001b[0m \u001b[0mtrash\u001b[0m \u001b[0;34m=\u001b[0m \u001b[0mstr_to_arg\u001b[0m\u001b[0;34m(\u001b[0m\u001b[0mvariables\u001b[0m\u001b[0;34m)\u001b[0m\u001b[0;34m\u001b[0m\u001b[0m\n\u001b[0m\u001b[1;32m    100\u001b[0m         \u001b[0;31m#self.imports.add_module(modulename,variables)\u001b[0m\u001b[0;34m\u001b[0m\u001b[0;34m\u001b[0m\u001b[0m\n\u001b[1;32m    101\u001b[0m \u001b[0;34m\u001b[0m\u001b[0m\n",
      "\u001b[0;32m/home/alessandro/Documents/PhD/fQEpy/codeblocks.py\u001b[0m in \u001b[0;36mstr_to_arg\u001b[0;34m(string)\u001b[0m\n\u001b[1;32m    230\u001b[0m                 \u001b[0margstring\u001b[0m \u001b[0;34m+=\u001b[0m \u001b[0marg\u001b[0m\u001b[0;34m+\u001b[0m\u001b[0;34m', '\u001b[0m\u001b[0;34m\u001b[0m\u001b[0m\n\u001b[1;32m    231\u001b[0m             \u001b[0;32melse\u001b[0m\u001b[0;34m:\u001b[0m\u001b[0;34m\u001b[0m\u001b[0m\n\u001b[0;32m--> 232\u001b[0;31m                 \u001b[0margstring\u001b[0m \u001b[0;34m+=\u001b[0m \u001b[0marg\u001b[0m\u001b[0;34m\u001b[0m\u001b[0m\n\u001b[0m\u001b[1;32m    233\u001b[0m         \u001b[0;32mreturn\u001b[0m \u001b[0margs\u001b[0m\u001b[0;34m,\u001b[0m \u001b[0margstring\u001b[0m\u001b[0;34m\u001b[0m\u001b[0m\n\u001b[1;32m    234\u001b[0m     \u001b[0;31m#return args, argstring if len(args) > 0 else None, None\u001b[0m\u001b[0;34m\u001b[0m\u001b[0;34m\u001b[0m\u001b[0m\n",
      "\u001b[0;31mTypeError\u001b[0m: Can't convert 'tuple' object to str implicitly"
     ]
    }
   ],
   "source": [
    "files = !ls /home/alessandro/QE/qe-6.1/PW/src/*f90\n",
    "QE = cb.Project('QE')\n",
    "for ifile, file in enumerate(files):\n",
    "    QE.add_sourcefile(file)\n",
    "    if ifile > 9:\n",
    "        break\n",
    "QE.scan_sources()\n",
    "QE.make_project_tree()"
   ]
  },
  {
   "cell_type": "markdown",
   "metadata": {
    "slideshow": {
     "slide_type": "slide"
    }
   },
   "source": [
    "#### Bad Routine\n",
    "\n",
    "Let's take the subroutine where the Hartree potential is computed, `v_h`, for example."
   ]
  },
  {
   "cell_type": "markdown",
   "metadata": {
    "slideshow": {
     "slide_type": "slide"
    }
   },
   "source": [
    "```fortran\n",
    "!---------------------------------------\n",
    "SUBROUTINE v_h( rhog, ehart, charge, v )\n",
    "  !-------------------------------------\n",
    "  !\n",
    "  ! ... Hartree potential VH(r) from n(G)\n",
    "  !\n",
    "  USE constants, ONLY : fpi, e2\n",
    "  USE kinds,     ONLY : DP\n",
    "  USE fft_base,  ONLY : dfftp\n",
    "  USE fft_interfaces,ONLY : invfft\n",
    "  USE gvect,     ONLY : nl, nlm, ngm, gg, gstart\n",
    "  USE lsda_mod,  ONLY : nspin\n",
    "  USE cell_base, ONLY : omega, tpiba2\n",
    "  USE control_flags, ONLY : gamma_only\n",
    "\n",
    "```"
   ]
  },
  {
   "cell_type": "markdown",
   "metadata": {
    "slideshow": {
     "slide_type": "slide"
    }
   },
   "source": [
    "The script can already detect all the quantities imported through modules in each function/subroutine/module"
   ]
  },
  {
   "cell_type": "code",
   "execution_count": 11,
   "metadata": {
    "collapsed": false,
    "slideshow": {
     "slide_type": "fragment"
    }
   },
   "outputs": [
    {
     "data": {
      "text/plain": [
       "OrderedDict([('constants', ['fpi', 'e2']),\n",
       "             ('kinds', ['DP']),\n",
       "             ('fft_base', ['dfftp']),\n",
       "             ('fft_interfaces', ['invfft']),\n",
       "             ('gvect', ['nl', 'nlm', 'ngm', 'gg', 'gstart']),\n",
       "             ('lsda_mod', ['nspin']),\n",
       "             ('cell_base', ['omega', 'tpiba2']),\n",
       "             ('control_flags', ['gamma_only']),\n",
       "             ('mp_bands', ['intra_bgrp_comm']),\n",
       "             ('mp', ['mp_sum']),\n",
       "             ('martyna_tuckerman', ['wg_corr_h', 'do_comp_mt']),\n",
       "             ('esm', ['do_comp_esm', 'esm_hartree', 'esm_bc'])])"
      ]
     },
     "execution_count": 11,
     "metadata": {},
     "output_type": "execute_result"
    }
   ],
   "source": [
    "for file in QE.sources:\n",
    "    if file.name.endswith('v_of_rho.f90'): \n",
    "        v_h = file.contains['v_h']\n",
    "        break\n",
    "\n",
    "v_h.imports"
   ]
  },
  {
   "cell_type": "code",
   "execution_count": null,
   "metadata": {
    "collapsed": false,
    "slideshow": {
     "slide_type": "slide"
    }
   },
   "outputs": [],
   "source": [
    "from deprecated_use import depr\n",
    "print(\"Deprecated master list:\",depr)"
   ]
  },
  {
   "cell_type": "code",
   "execution_count": null,
   "metadata": {
    "collapsed": false,
    "slideshow": {
     "slide_type": "slide"
    }
   },
   "outputs": [],
   "source": [
    "target_subroutine = v_h\n",
    "deprecated = {}\n",
    "\n",
    "for module, quantities in depr.items():\n",
    "    if module in target_subroutine.imports :\n",
    "        deprecated[module] = []\n",
    "        if quantities is None:\n",
    "            deprecated[module] = target_subroutine.imports[module]\n",
    "        else:\n",
    "            if target_subroutine.imports[module] is None:\n",
    "                deprecated[module] = None\n",
    "            else:\n",
    "                for quantity in target_subroutine.imports[module]:\n",
    "                    if quantity in depr[module]:\n",
    "                        deprecated[module].append(quantity)\n",
    "\n",
    "print(\"Deprecated quantities found in codeblock:\", deprecated)"
   ]
  },
  {
   "cell_type": "markdown",
   "metadata": {
    "slideshow": {
     "slide_type": "slide"
    }
   },
   "source": [
    "### Phase 1: Designing DataTypes (pre-hackathon?)\n",
    "\n",
    "- Automatically generate derived datatypes that reflect the structure of each module, and pass them around routine calls instead of having USE statements.\n",
    "- USE statements will only be acceptable for constants and procedures."
   ]
  },
  {
   "cell_type": "markdown",
   "metadata": {
    "slideshow": {
     "slide_type": "slide"
    }
   },
   "source": [
    "### Phase 2: Patching (hackathon)\n",
    "\n",
    "Now that we have a map of where the problems are, the script will need to be extended to:\n",
    "- Fix the argument lists of each function/subroutine to include passing of the datatypes\n",
    "- Remove the toxic `USE` statements\n",
    "- Assign pointers within the routines so that the names in the code later on doesn't need to be changed\n",
    "- Fix the routines calls to match the new argument scheme.\n"
   ]
  },
  {
   "cell_type": "markdown",
   "metadata": {
    "slideshow": {
     "slide_type": "slide"
    }
   },
   "source": [
    "### Phase 3...N: Writing eQE 2.0 (the distant future)"
   ]
  }
 ],
 "metadata": {
  "celltoolbar": "Slideshow",
  "kernelspec": {
   "display_name": "Python [default]",
   "language": "python",
   "name": "python3"
  },
  "language_info": {
   "codemirror_mode": {
    "name": "ipython",
    "version": 3
   },
   "file_extension": ".py",
   "mimetype": "text/x-python",
   "name": "python",
   "nbconvert_exporter": "python",
   "pygments_lexer": "ipython3",
   "version": "3.5.2"
  }
 },
 "nbformat": 4,
 "nbformat_minor": 2
}
