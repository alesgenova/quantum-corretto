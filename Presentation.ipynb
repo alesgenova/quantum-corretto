{
 "cells": [
  {
   "cell_type": "markdown",
   "metadata": {},
   "source": [
    "# Path to eQE 2.0\n",
    "\n",
    "## The problem\n",
    "embedded Quantum ESPRESSO is a fast and capable software, but it's also written with poor coding standards. Thus developing and extending the codebase is extremely painful and prone to errors (trust him, he wrote it).\n",
    "\n",
    "The main reason why the situation is so dire, is that eQE is entangled with the Quantum Espresso (QE) code, and QE happens to have huge flaws in the way it is written.\n",
    "\n",
    "What we believe is the worst problem is that QE is not compliant to <i>functional paradigm</i> standards.\n",
    "\n",
    "> In computer science, functional programming is a programming paradigm—a style of building the structure and elements of computer programs—that treats computation as the evaluation of mathematical functions and avoids changing-state and mutable data.\n",
    "\n",
    "\n",
    "#### But what does it mean?\n",
    "\n",
    "A function provided the same inputs should always return the same output.\n",
    "Let's see some code:"
   ]
  },
  {
   "cell_type": "markdown",
   "metadata": {},
   "source": [
    "##### The logical way (eQE 2.0)"
   ]
  },
  {
   "cell_type": "code",
   "execution_count": null,
   "metadata": {
    "collapsed": true
   },
   "outputs": [],
   "source": [
    "def f0(x,y,l):\n",
    "    l.append(x)\n",
    "    l.append(y)\n",
    "    return l"
   ]
  },
  {
   "cell_type": "markdown",
   "metadata": {},
   "source": [
    "##### The I-hate-myself way (QE / eQE 1.0)"
   ]
  },
  {
   "cell_type": "code",
   "execution_count": null,
   "metadata": {
    "collapsed": true
   },
   "outputs": [],
   "source": [
    "l = []\n",
    "\n",
    "def f1(x,y):\n",
    "    l.append(x)\n",
    "    l.append(y)\n",
    "    return l"
   ]
  },
  {
   "cell_type": "markdown",
   "metadata": {},
   "source": [
    "##### Runtime"
   ]
  },
  {
   "cell_type": "code",
   "execution_count": null,
   "metadata": {
    "collapsed": false
   },
   "outputs": [],
   "source": [
    "print( \"f0: \", f0(1,2,[]) )\n",
    "print( \"f1: \", f1(1,2) )"
   ]
  },
  {
   "cell_type": "markdown",
   "metadata": {},
   "source": [
    "## The solution\n",
    "\n",
    "To improve eQE, it is vital to make QE better.\n",
    "\n",
    "If the QE base was written in a logical functional way, it would be so much easier to disentangle the special case subsystem approach, and have the two codes live independently.\n",
    "\n",
    "Since QE developers wouldn't do it, we decided to fix it ourselves.\n",
    "\n",
    "QE is several million lines long, and adapting it to the functional paradigm by hand not only would be extremely tedious, but it would need to be done over and over for each new major release.\n",
    "\n",
    "We hate boring, so we'll have the computer do it for us.\n",
    "\n",
    "### Phase 0: mapping (80% complete)\n",
    "\n",
    "Generate a script to create a map of the sourcecode.\n",
    "For each `f90` file we need to know:\n",
    "- Which modules/function/subroutines are there\n",
    "- The parent/child relation between blocks of code\n",
    "- Which are the arguments of a function/routine\n",
    "- Which quantities are imported from external modules (<strong>the source of the problem</strong>)"
   ]
  },
  {
   "cell_type": "code",
   "execution_count": null,
   "metadata": {
    "collapsed": false
   },
   "outputs": [],
   "source": [
    "import numpy as np\n",
    "import codeblocks as cb\n",
    "import deprecated_use as du\n",
    "import f90_regex as frgx\n",
    "\n",
    "%load_ext autoreload\n",
    "%autoreload 2\n",
    "files = [] # !ls /home/alessandro/QE/qe-6.0/Modules/*f90\n",
    "files2 = !ls /home/alessandro/QE/qe-6.0/PW/src/*f90\n",
    "files = files + files2\n",
    "#files = ['/home/alessandro/QE/qe-6.0/PW/src/symm_base.f90']\n",
    "QE = cb.Project('QE')\n",
    "for file in files:\n",
    "    QE.add_sourcefile(file)\n",
    "QE.scan_sources()\n",
    "QE.make_project_tree()"
   ]
  },
  {
   "cell_type": "markdown",
   "metadata": {},
   "source": [
    "#### Information gathered during mapping\n",
    "\n",
    "Let's take the subroutine where the Hartree potential is computed, `v_h`, for example.\n",
    "\n",
    "```fortran\n",
    "!----------------------------------------------------------------------------\n",
    "SUBROUTINE v_h( rhog, ehart, charge, v )\n",
    "  !----------------------------------------------------------------------------\n",
    "  !\n",
    "  ! ... Hartree potential VH(r) from n(G)\n",
    "  !\n",
    "  USE constants, ONLY : fpi, e2\n",
    "  USE kinds,     ONLY : DP\n",
    "  USE fft_base,  ONLY : dfftp\n",
    "  USE fft_interfaces,ONLY : invfft\n",
    "  USE gvect,     ONLY : nl, nlm, ngm, gg, gstart\n",
    "  USE lsda_mod,  ONLY : nspin\n",
    "  USE cell_base, ONLY : omega, tpiba2\n",
    "  USE control_flags, ONLY : gamma_only\n",
    "  USE mp_bands,  ONLY: intra_bgrp_comm\n",
    "  USE mp,        ONLY: mp_sum\n",
    "  USE martyna_tuckerman, ONLY : wg_corr_h, do_comp_mt\n",
    "  USE esm,       ONLY: do_comp_esm, esm_hartree, esm_bc\n",
    "\n",
    "```"
   ]
  },
  {
   "cell_type": "code",
   "execution_count": null,
   "metadata": {
    "collapsed": false
   },
   "outputs": [],
   "source": [
    "for file in QE.sources:\n",
    "    if file.name.endswith('v_of_rho.f90'): \n",
    "        v_h = file.contains['v_h']\n",
    "        break\n",
    "\n",
    "v_h.imports"
   ]
  },
  {
   "cell_type": "code",
   "execution_count": null,
   "metadata": {
    "collapsed": false
   },
   "outputs": [],
   "source": [
    "from deprecated_use import depr\n",
    "print(\"Deprecated master list:\",depr)"
   ]
  },
  {
   "cell_type": "code",
   "execution_count": null,
   "metadata": {
    "collapsed": false
   },
   "outputs": [],
   "source": [
    "target_subroutine = v_h\n",
    "deprecated = {}\n",
    "\n",
    "for module, quantities in depr.items():\n",
    "    if module in target_subroutine.imports :\n",
    "        deprecated[module] = []\n",
    "        if quantities is None:\n",
    "            deprecated[module] = target_subroutine.imports[module]\n",
    "        else:\n",
    "            if target_subroutine.imports[module] is None:\n",
    "                deprecated[module] = None\n",
    "            else:\n",
    "                for quantity in target_subroutine.imports[module]:\n",
    "                    if quantity in depr[module]:\n",
    "                        deprecated[module].append(quantity)\n",
    "\n",
    "print(\"Deprecated quantities found in codeblock:\", deprecated)"
   ]
  },
  {
   "cell_type": "markdown",
   "metadata": {},
   "source": [
    "### Phase 1: Designing DataTypes (pre-hackathon?)\n",
    "\n",
    "- We will create a series of datatypes that mimic the structure of existing deprecated modules.\n",
    "- Attributes inside these datatypes will be pointers to the actual quantities in the modules\n",
    "- The optimal way would be to create class instances instead of duplicated static modules, but hey, we want to leave some of the work to the actual QE developers, right?\n",
    "- There will be module duplication, but by passing around the datatypes we will avoid routine/function duplication, which is a way more pressing issue."
   ]
  },
  {
   "cell_type": "markdown",
   "metadata": {},
   "source": [
    "### Phase 2: Patching (hackathon)\n",
    "\n",
    "Now that we have a map of where the problems are, the script will need to be extended to:\n",
    "- Fix the argument lists of each function/subroutine to include passing of the datatypes\n",
    "- Remove the toxic `USE` statements\n",
    "- Assign pointers within the routines so that the names in the code later on doesn't need to be changed\n",
    "- Fix the routines calls to match the new argument scheme.\n"
   ]
  },
  {
   "cell_type": "markdown",
   "metadata": {},
   "source": [
    "### Phase 3...N: Writing eQE 2.0 (the distant future)"
   ]
  }
 ],
 "metadata": {
  "celltoolbar": "Raw Cell Format",
  "kernelspec": {
   "display_name": "Python [default]",
   "language": "python",
   "name": "python3"
  },
  "language_info": {
   "codemirror_mode": {
    "name": "ipython",
    "version": 3
   },
   "file_extension": ".py",
   "mimetype": "text/x-python",
   "name": "python",
   "nbconvert_exporter": "python",
   "pygments_lexer": "ipython3",
   "version": "3.5.2"
  }
 },
 "nbformat": 4,
 "nbformat_minor": 2
}
