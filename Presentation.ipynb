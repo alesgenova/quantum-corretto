{
 "cells": [
  {
   "cell_type": "code",
   "execution_count": null,
   "metadata": {
    "collapsed": false,
    "slideshow": {
     "slide_type": "skip"
    }
   },
   "outputs": [],
   "source": [
    "import numpy as np\n",
    "import codeblocks as cb\n",
    "\n",
    "\n",
    "%load_ext autoreload\n",
    "%autoreload 2"
   ]
  },
  {
   "cell_type": "markdown",
   "metadata": {
    "slideshow": {
     "slide_type": "slide"
    }
   },
   "source": [
    "# Path to eQE 2.0\n",
    "\n",
    "\n",
    "### Alessandro Genova\n",
    "\n",
    "### Sudheer Kumar P."
   ]
  },
  {
   "cell_type": "markdown",
   "metadata": {
    "slideshow": {
     "slide_type": "slide"
    }
   },
   "source": [
    "## The problem\n",
    "embedded Quantum ESPRESSO is a fast and capable software, but it's also written with poor coding standards. Thus developing and extending the codebase is extremely painful and prone to errors (trust him, he wrote it).\n",
    "\n",
    "The main reason why the situation is so dire, is that eQE is entangled with the Quantum Espresso (QE) code, and QE happens to have huge flaws in the way it is written."
   ]
  },
  {
   "cell_type": "markdown",
   "metadata": {
    "slideshow": {
     "slide_type": "slide"
    }
   },
   "source": [
    "What we believe is the worst problem is that QE is not compliant to <i>functional paradigm</i> standards.\n",
    "\n",
    "> In computer science, functional programming is a programming paradigm—a style of building the structure and elements of computer programs—that treats computation as the evaluation of mathematical functions and avoids changing-state and mutable data.\n",
    "\n",
    "\n",
    "#### But what does it mean?\n",
    "\n",
    "A function provided the same inputs should always return the same output.\n",
    "Let's see some code:"
   ]
  },
  {
   "cell_type": "markdown",
   "metadata": {
    "slideshow": {
     "slide_type": "slide"
    }
   },
   "source": [
    "##### The logical way (eQE 2.0)"
   ]
  },
  {
   "cell_type": "code",
   "execution_count": 10,
   "metadata": {
    "collapsed": true,
    "slideshow": {
     "slide_type": "fragment"
    }
   },
   "outputs": [],
   "source": [
    "def f0(x,y,l):\n",
    "    l.append(x)\n",
    "    l.append(y)\n",
    "    return l"
   ]
  },
  {
   "cell_type": "markdown",
   "metadata": {
    "slideshow": {
     "slide_type": "slide"
    }
   },
   "source": [
    "##### The I-hate-myself way (QE / eQE 1.0)"
   ]
  },
  {
   "cell_type": "code",
   "execution_count": 11,
   "metadata": {
    "collapsed": true,
    "slideshow": {
     "slide_type": "fragment"
    }
   },
   "outputs": [],
   "source": [
    "l = []\n",
    "\n",
    "def f1(x,y):\n",
    "    l.append(x)\n",
    "    l.append(y)\n",
    "    return l"
   ]
  },
  {
   "cell_type": "markdown",
   "metadata": {
    "slideshow": {
     "slide_type": "slide"
    }
   },
   "source": [
    "##### Runtime\n",
    "calling routines with the same parameters multiple times"
   ]
  },
  {
   "cell_type": "code",
   "execution_count": 15,
   "metadata": {
    "collapsed": false,
    "slideshow": {
     "slide_type": "fragment"
    }
   },
   "outputs": [
    {
     "name": "stdout",
     "output_type": "stream",
     "text": [
      "f0:  [1, 2]\n",
      "f1:  [1, 2, 1, 2, 1, 2, 1, 2]\n"
     ]
    }
   ],
   "source": [
    "print( \"f0: \", f0(1,2,[]) )\n",
    "print( \"f1: \", f1(1,2) )"
   ]
  },
  {
   "cell_type": "markdown",
   "metadata": {
    "slideshow": {
     "slide_type": "slide"
    }
   },
   "source": [
    "## The solution\n",
    "\n",
    "To improve eQE, it is vital to make QE better.\n",
    "\n",
    "If the QE base was written in a logical functional way, it would be so much easier to disentangle the special case subsystem approach, and have the two codes live independently.\n",
    "\n",
    "Since QE developers wouldn't do it, we decided to fix it ourselves.\n",
    "\n",
    "QE is several million lines long, and adapting it to the functional paradigm by hand not only would be extremely tedious, but it would need to be done over and over for each new major release.\n",
    "\n",
    "We hate boring, so we'll have the computer do it for us!"
   ]
  },
  {
   "cell_type": "markdown",
   "metadata": {
    "slideshow": {
     "slide_type": "slide"
    }
   },
   "source": [
    "### Phase 0: mapping (80% complete)\n",
    "\n",
    "Generate a script to create a map of the sourcecode.\n",
    "For each `f90` file we need to know:\n",
    "- Which modules/function/subroutines are there\n",
    "- The parent/child relation between blocks of code\n",
    "- Which are the arguments of a function/routine\n",
    "- Which quantities are in each module\n",
    "- Which quantities are imported from external modules (<strong>the source of the problem</strong>)\n",
    "\n",
    "The mapping script is already almost complete, here it is scanning the entire QE source code."
   ]
  },
  {
   "cell_type": "code",
   "execution_count": 22,
   "metadata": {
    "collapsed": false,
    "slideshow": {
     "slide_type": "slide"
    }
   },
   "outputs": [
    {
     "name": "stdout",
     "output_type": "stream",
     "text": [
      "PROJECT QE\n",
      "  |\n",
      "   ---- FILE /home/alessandro/QE/qe-6.1/PW/src/a2fmod.f90\n",
      "      |\n",
      "      ---- MODULE a2f\n",
      "         |\n",
      "         ---- SUBROUTINE a2fsave ()\n",
      "  |\n",
      "   ---- FILE /home/alessandro/QE/qe-6.1/PW/src/acfdt_in_pw.f90\n",
      "      |\n",
      "      ---- MODULE acfdt_ener\n",
      "  |\n",
      "   ---- FILE /home/alessandro/QE/qe-6.1/PW/src/add_bfield.f90\n",
      "      |\n",
      "      ---- SUBROUTINE add_bfield (v, rho)\n",
      "  |\n",
      "   ---- FILE /home/alessandro/QE/qe-6.1/PW/src/add_efield.f90\n",
      "      |\n",
      "      ---- SUBROUTINE add_efield (vpoten, etotefield, rho, iflag)\n",
      "  |\n",
      "   ---- FILE /home/alessandro/QE/qe-6.1/PW/src/add_monofield.f90\n",
      "      |\n",
      "      ---- SUBROUTINE add_monofield (vpoten, etotmonofield, linear, quadratic)\n",
      "  |\n",
      "   ---- FILE /home/alessandro/QE/qe-6.1/PW/src/add_paw_to_deeq.f90\n",
      "      |\n",
      "      ---- SUBROUTINE add_paw_to_deeq (deeq)\n",
      "  |\n",
      "   ---- FILE /home/alessandro/QE/qe-6.1/PW/src/add_qexsd_step.f90\n",
      "      |\n",
      "      ---- SUBROUTINE add_qexsd_step (i_step)\n",
      "  |\n",
      "   ---- FILE /home/alessandro/QE/qe-6.1/PW/src/addusdens.f90\n",
      "      |\n",
      "      ---- SUBROUTINE addusdens (rho)\n",
      "      |\n",
      "      ---- SUBROUTINE addusdens_g (rho)\n",
      "  |\n",
      "   ---- FILE /home/alessandro/QE/qe-6.1/PW/src/addusforce.f90\n",
      "      |\n",
      "      ---- SUBROUTINE addusforce (forcenl)\n",
      "      |\n",
      "      ---- SUBROUTINE addusforce_g (forcenl)\n",
      "  |\n",
      "   ---- FILE /home/alessandro/QE/qe-6.1/PW/src/addusstress.f90\n",
      "      |\n",
      "      ---- SUBROUTINE addusstres (sigmanlc)\n",
      "  |\n",
      "   ---- FILE /home/alessandro/QE/qe-6.1/PW/src/add_vhub_to_deeq.f90\n",
      "      |\n",
      "      ---- SUBROUTINE add_vhub_to_deeq (deeq)\n"
     ]
    }
   ],
   "source": [
    "files = !ls /home/alessandro/QE/qe-6.1/PW/src/*f90\n",
    "QE = cb.Project('QE')\n",
    "for ifile, file in enumerate(files):\n",
    "    QE.add_sourcefile(file)\n",
    "    if ifile > 9:\n",
    "        break\n",
    "QE.scan_sources()\n",
    "QE.make_project_tree()"
   ]
  },
  {
   "cell_type": "markdown",
   "metadata": {
    "slideshow": {
     "slide_type": "slide"
    }
   },
   "source": [
    "#### Bad Routine\n",
    "\n",
    "Let's take the subroutine where the Hartree potential is computed, `v_h`, for example."
   ]
  },
  {
   "cell_type": "markdown",
   "metadata": {
    "slideshow": {
     "slide_type": "slide"
    }
   },
   "source": [
    "```fortran\n",
    "!---------------------------------------\n",
    "SUBROUTINE v_h( rhog, ehart, charge, v )\n",
    "  !-------------------------------------\n",
    "  !\n",
    "  ! ... Hartree potential VH(r) from n(G)\n",
    "  !\n",
    "  USE constants, ONLY : fpi, e2\n",
    "  USE kinds,     ONLY : DP\n",
    "  USE fft_base,  ONLY : dfftp\n",
    "  USE fft_interfaces,ONLY : invfft\n",
    "  USE gvect,     ONLY : nl, nlm, ngm, gg, gstart\n",
    "  USE lsda_mod,  ONLY : nspin\n",
    "  USE cell_base, ONLY : omega, tpiba2\n",
    "  USE control_flags, ONLY : gamma_only\n",
    "\n",
    "```"
   ]
  },
  {
   "cell_type": "markdown",
   "metadata": {},
   "source": [
    "The script can already detect all the quantities imported through modules in each function/subroutine/module"
   ]
  },
  {
   "cell_type": "code",
   "execution_count": 17,
   "metadata": {
    "collapsed": false,
    "slideshow": {
     "slide_type": "slide"
    }
   },
   "outputs": [
    {
     "data": {
      "text/plain": [
       "OrderedDict([('constants', ['fpi', 'e2']),\n",
       "             ('kinds', ['DP']),\n",
       "             ('fft_base', ['dfftp']),\n",
       "             ('fft_interfaces', ['invfft']),\n",
       "             ('gvect', ['nl', 'nlm', 'ngm', 'gg', 'gstart']),\n",
       "             ('lsda_mod', ['nspin']),\n",
       "             ('cell_base', ['omega', 'tpiba2']),\n",
       "             ('control_flags', ['gamma_only']),\n",
       "             ('mp_bands', ['intra_bgrp_comm']),\n",
       "             ('mp', ['mp_sum']),\n",
       "             ('martyna_tuckerman', ['wg_corr_h', 'do_comp_mt']),\n",
       "             ('esm', ['do_comp_esm', 'esm_hartree', 'esm_bc'])])"
      ]
     },
     "execution_count": 17,
     "metadata": {},
     "output_type": "execute_result"
    }
   ],
   "source": [
    "for file in QE.sources:\n",
    "    if file.name.endswith('v_of_rho.f90'): \n",
    "        v_h = file.contains['v_h']\n",
    "        break\n",
    "\n",
    "v_h.imports"
   ]
  },
  {
   "cell_type": "code",
   "execution_count": 20,
   "metadata": {
    "collapsed": false,
    "slideshow": {
     "slide_type": "slide"
    }
   },
   "outputs": [
    {
     "name": "stdout",
     "output_type": "stream",
     "text": [
      "Deprecated master list: {'gvect': None, 'fft_base': ['dfftp', 'dffts'], 'lsda_mod': ['nspin']}\n"
     ]
    }
   ],
   "source": [
    "from deprecated_use import depr\n",
    "print(\"Deprecated master list:\",depr)"
   ]
  },
  {
   "cell_type": "code",
   "execution_count": 21,
   "metadata": {
    "collapsed": false,
    "slideshow": {
     "slide_type": "slide"
    }
   },
   "outputs": [
    {
     "name": "stdout",
     "output_type": "stream",
     "text": [
      "Deprecated quantities found in codeblock: {'gvect': ['nl', 'nlm', 'ngm', 'gg', 'gstart'], 'fft_base': ['dfftp'], 'lsda_mod': ['nspin']}\n"
     ]
    }
   ],
   "source": [
    "target_subroutine = v_h\n",
    "deprecated = {}\n",
    "\n",
    "for module, quantities in depr.items():\n",
    "    if module in target_subroutine.imports :\n",
    "        deprecated[module] = []\n",
    "        if quantities is None:\n",
    "            deprecated[module] = target_subroutine.imports[module]\n",
    "        else:\n",
    "            if target_subroutine.imports[module] is None:\n",
    "                deprecated[module] = None\n",
    "            else:\n",
    "                for quantity in target_subroutine.imports[module]:\n",
    "                    if quantity in depr[module]:\n",
    "                        deprecated[module].append(quantity)\n",
    "\n",
    "print(\"Deprecated quantities found in codeblock:\", deprecated)"
   ]
  },
  {
   "cell_type": "markdown",
   "metadata": {
    "slideshow": {
     "slide_type": "slide"
    }
   },
   "source": [
    "### Phase 1: Designing DataTypes (pre-hackathon?)\n",
    "\n",
    "- Automatically generate derived datatypes that reflect the structure of each module, and pass them around routine calls instead of having USE statements.\n",
    "- USE statements will only be acceptable for constants and procedures."
   ]
  },
  {
   "cell_type": "markdown",
   "metadata": {
    "slideshow": {
     "slide_type": "slide"
    }
   },
   "source": [
    "### Phase 2: Patching (hackathon)\n",
    "\n",
    "Now that we have a map of where the problems are, the script will need to be extended to:\n",
    "- Fix the argument lists of each function/subroutine to include passing of the datatypes\n",
    "- Remove the toxic `USE` statements\n",
    "- Assign pointers within the routines so that the names in the code later on doesn't need to be changed\n",
    "- Fix the routines calls to match the new argument scheme.\n"
   ]
  },
  {
   "cell_type": "markdown",
   "metadata": {
    "slideshow": {
     "slide_type": "slide"
    }
   },
   "source": [
    "### Phase 3...N: Writing eQE 2.0 (the distant future)"
   ]
  }
 ],
 "metadata": {
  "celltoolbar": "Slideshow",
  "kernelspec": {
   "display_name": "Python 3",
   "language": "python",
   "name": "python3"
  },
  "language_info": {
   "codemirror_mode": {
    "name": "ipython",
    "version": 3
   },
   "file_extension": ".py",
   "mimetype": "text/x-python",
   "name": "python",
   "nbconvert_exporter": "python",
   "pygments_lexer": "ipython3",
   "version": "3.6.0"
  },
  "widgets": {
   "state": {},
   "version": "1.1.1"
  }
 },
 "nbformat": 4,
 "nbformat_minor": 2
}
