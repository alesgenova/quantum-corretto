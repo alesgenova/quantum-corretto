{
 "cells": [
  {
   "cell_type": "code",
   "execution_count": 215,
   "metadata": {
    "collapsed": false
   },
   "outputs": [
    {
     "name": "stdout",
     "output_type": "stream",
     "text": [
      "The autoreload extension is already loaded. To reload it, use:\n",
      "  %reload_ext autoreload\n"
     ]
    }
   ],
   "source": [
    "import numpy as np\n",
    "from codeblocks import Project, Codeblock, Sourcefile, Module, Procedure, Function, Subroutine\n",
    "import deprecated_use as du\n",
    "import f90_regex as frgx\n",
    "\n",
    "%load_ext autoreload\n",
    "%autoreload 2"
   ]
  },
  {
   "cell_type": "code",
   "execution_count": 216,
   "metadata": {
    "collapsed": false,
    "scrolled": true
   },
   "outputs": [
    {
     "name": "stdout",
     "output_type": "stream",
     "text": [
      "Modules/recvec.f90\n",
      "PROJECT eQE\n",
      "  |\n",
      "   ---- FILE Modules/recvec.f90\n",
      "      |\n",
      "      ---- MODULE gvect\n",
      "         |\n",
      "         ---- SUBROUTINE gvect_init (ngm_, comm)\n",
      "         |\n",
      "         ---- SUBROUTINE deallocate_gvect ()\n",
      "         |\n",
      "         ---- SUBROUTINE deallocate_gvect_exx ()\n",
      "      |\n",
      "      ---- MODULE gvecs\n",
      "         |\n",
      "         ---- SUBROUTINE gvecs_init (ngs_, comm)\n",
      "         |\n",
      "         ---- SUBROUTINE deallocate_gvecs ()\n"
     ]
    }
   ],
   "source": [
    "#files = ['recvec.f90']#,'fde_routines.f90']\n",
    "root = \"/home/alessandro/QE/qe-6.1/\"\n",
    "files = !ls {root}Modules/*f90\n",
    "files1 = !ls {root}PW/src/*f90\n",
    "files=[root+'Modules/recvec.f90']\n",
    "\n",
    "#files.extend(files1)\n",
    "\n",
    "#files = ['recvec.f90']\n",
    "QE = Project('eQE', root)\n",
    "for file in files:\n",
    "    #print(file)\n",
    "    QE.add_sourcefile(file)\n",
    "    \n",
    "QE.scan_sources()\n",
    "QE.make_project_tree()\n",
    "#eQE.sources[0].print_source()\n"
   ]
  },
  {
   "cell_type": "code",
   "execution_count": 212,
   "metadata": {
    "collapsed": false
   },
   "outputs": [
    {
     "data": {
      "text/plain": [
       "('MODULE gvect', ['Modules/recvec.f90'])"
      ]
     },
     "execution_count": 212,
     "metadata": {},
     "output_type": "execute_result"
    }
   ],
   "source": [
    "obj, location = QE.locate('gvect')\n",
    "str(obj), location\n",
    "#obj.shortdir+obj\n",
    "\n",
    "#location#gvect.declarations\n",
    "#print(obj)"
   ]
  },
  {
   "cell_type": "code",
   "execution_count": 220,
   "metadata": {
    "collapsed": false
   },
   "outputs": [
    {
     "data": {
      "text/plain": [
       "[]"
      ]
     },
     "execution_count": 220,
     "metadata": {},
     "output_type": "execute_result"
    }
   ],
   "source": [
    "type(obj)\n",
    "QE.get_blocktypes(Function)"
   ]
  },
  {
   "cell_type": "code",
   "execution_count": 25,
   "metadata": {
    "collapsed": false
   },
   "outputs": [
    {
     "name": "stdout",
     "output_type": "stream",
     "text": [
      "ngm\n",
      "ngm_g\n",
      "ngl\n",
      "ngmx\n",
      "ecutrho\n",
      "gcutm\n",
      "nl\n",
      "nlm\n",
      "gstart\n",
      "gg\n",
      "gl\n",
      "igtongl\n",
      "g\n",
      "mill\n",
      "ig_l2g\n",
      "sortedig_l2g\n",
      "mill_g\n",
      "eigts1\n",
      "eigts2\n",
      "eigts3\n"
     ]
    }
   ],
   "source": [
    "for name,var in QE.locate('gvect')[0].declarations.items():\n",
    "    print(var['name'])\n",
    "    #print()\n"
   ]
  },
  {
   "cell_type": "code",
   "execution_count": null,
   "metadata": {
    "collapsed": false
   },
   "outputs": [],
   "source": [
    "for cont in src.contains:\n",
    "    print(cont)"
   ]
  },
  {
   "cell_type": "code",
   "execution_count": null,
   "metadata": {
    "collapsed": false
   },
   "outputs": [],
   "source": [
    "files = !ls  /home/alessandro/QE/qe-6.0/PW/src/*f90\n",
    "files"
   ]
  },
  {
   "cell_type": "code",
   "execution_count": 23,
   "metadata": {
    "collapsed": true
   },
   "outputs": [],
   "source": [
    "dic = {\"a\":1,\"b\":2}"
   ]
  },
  {
   "cell_type": "code",
   "execution_count": 87,
   "metadata": {
    "collapsed": false
   },
   "outputs": [
    {
     "data": {
      "text/plain": [
       "'Modules'"
      ]
     },
     "execution_count": 87,
     "metadata": {},
     "output_type": "execute_result"
    }
   ],
   "source": [
    "import os\n",
    "filedir = os.path.dirname(file)\n",
    "os.path.relpath(os.path.dirname(file), start='/home/alessandro/QE/qe-6.1/')\n",
    "#os.path.split(os.path.split(file)[0])"
   ]
  }
 ],
 "metadata": {
  "kernelspec": {
   "display_name": "Python 3",
   "language": "python",
   "name": "python3"
  },
  "language_info": {
   "codemirror_mode": {
    "name": "ipython",
    "version": 3
   },
   "file_extension": ".py",
   "mimetype": "text/x-python",
   "name": "python",
   "nbconvert_exporter": "python",
   "pygments_lexer": "ipython3",
   "version": "3.6.0"
  },
  "widgets": {
   "state": {},
   "version": "1.1.1"
  }
 },
 "nbformat": 4,
 "nbformat_minor": 0
}
