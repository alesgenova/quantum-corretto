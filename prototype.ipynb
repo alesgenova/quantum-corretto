{
 "cells": [
  {
   "cell_type": "code",
   "execution_count": 2,
   "metadata": {
    "collapsed": true
   },
   "outputs": [],
   "source": [
    "import numpy as np\n",
    "import re"
   ]
  },
  {
   "cell_type": "code",
   "execution_count": 30,
   "metadata": {
    "collapsed": false
   },
   "outputs": [],
   "source": [
    "use_rgx = re.compile(r'^\\s*USE\\s+(\\w+)\\s*(?:,\\s*ONLY\\s*:\\s*)?(.*)?',re.IGNORECASE)\n",
    "#useonly_rgx = re.compile(r'USE\\s+(\\w+)(\\s*,\\s*ONLY\\s*:\\s*)+',re.IGNORECASE)\n",
    "vars_rgx = re.compile(r'(\\w+)',re.IGNORECASE)\n",
    "module_rgx = re.compile(r'^\\s*module\\s+(\\w+)',re.IGNORECASE)\n",
    "endmodule_rgx = re.compile(r'^\\s*end\\s*module\\s+(\\w+)',re.IGNORECASE)\n",
    "subroutine_rgx = re.compile(r'^\\s*subroutine\\s+(\\w+)\\s*(?:\\((.*)\\))?',re.IGNORECASE)\n",
    "endsubroutine_rgx = re.compile(r'^\\s*end\\s*subroutine\\s+(\\w+)',re.IGNORECASE)\n",
    "function_rgx = re.compile(r'^\\s*(?:(?:real|complex|int).*\\s+)?function\\s+(\\w+)\\s*(?:\\((.*?)\\))?\\s*(?:result\\s*(?:\\((.*?)\\)))?'\n",
    "                          ,re.IGNORECASE)\n",
    "endfunction_rgx = re.compile(r'^\\s*end\\s*function\\s+(\\w+)?',re.IGNORECASE)\n",
    "\n",
    "\n",
    "\n",
    "tree_root = 1\n",
    "\n",
    "class Line(object):\n",
    "    \n",
    "    def __init__(self, input_string, fileobj_in):\n",
    "        self.bare = ''\n",
    "        self.code = []\n",
    "        self.comment = []\n",
    "        continue_line = True\n",
    "        #self.empty = False\n",
    "        while continue_line:\n",
    "\n",
    "            # Remove comments\n",
    "\n",
    "            try:\n",
    "                code, comment = re.match(r'\\s*(.*?)(\\s*!.*)$', input_string).groups()\n",
    "            except:\n",
    "                #pass\n",
    "                code = re.match(r'\\s*(.*?)\\s*$', input_string).group(1)\n",
    "                comment = ''\n",
    "\n",
    "\n",
    "\n",
    "            # Concatenate continued lines\n",
    "\n",
    "            try:\n",
    "                code = re.match(r'^\\s*(&)?\\s*(.*?)(&)\\s*$',code).group(2)\n",
    "                input_string = fileobj_in.readline()\n",
    "            except:\n",
    "                code = re.match(r'^\\s*(&)?\\s*(.*?)(&)?\\s*$',code).group(2)\n",
    "                continue_line = False\n",
    "\n",
    "            self.bare += code+' '\n",
    "            self.code.append(code)\n",
    "            self.comment.append(comment)\n",
    "        self.empty = len(self.bare) < 2\n",
    "            \n",
    "class EmptyLine(Line):\n",
    "    \n",
    "    def __init__(self):\n",
    "        self.bare = ''\n",
    "        self.code = ['']\n",
    "        self.comment = ['']\n",
    "         \n",
    "\n",
    "class Project(object):\n",
    "    \n",
    "    def __init__(self, name):\n",
    "        self.name = name\n",
    "        self.sources = []\n",
    "        \n",
    "    def add_sourcefile(self, filename):\n",
    "        self.sources.append(Sourcefile(filename))\n",
    "        \n",
    "    def scan_sources(self):\n",
    "        for src in self.sources:\n",
    "            print('Scanning', src.name)\n",
    "            src.scan()\n",
    "        \n",
    "    def make_project_tree(self):\n",
    "        print('PROJECT '+self.name)\n",
    "        for src in self.sources:\n",
    "            print('  |')\n",
    "            src.print_contains()\n",
    "        \n",
    "\n",
    "class Codeblock(object):\n",
    "    \n",
    "    def __init__(self,name):\n",
    "        self.name = name\n",
    "        self.contains = []\n",
    "        self.imports = {}\n",
    "    \n",
    "    def add_import(self, modulename, variables):\n",
    "        self.imports[modulename], trash = str_to_arg(variables)\n",
    "        #self.imports.add_module(modulename,variables)\n",
    "  \n",
    "    def add_contains(self,obj):\n",
    "        self.contains.append(obj)\n",
    "        \n",
    "    def print_contains(self):\n",
    "        print('   '*self.tree_level+'---- '+self.__str__())\n",
    "        #self.print_contains()\n",
    "        for obj in self.contains:\n",
    "            print('   '*self.tree_level+'   |')\n",
    "            #print ('---'*obj.tree_level,obj.typ,obj.name)\n",
    "            obj.print_contains()\n",
    "    \n",
    "        \n",
    "        \n",
    "\n",
    "\n",
    "class Sourcefile(Codeblock):\n",
    "    \n",
    "    def __init__(self,name):\n",
    "        super().__init__(name)\n",
    "        self.parent = None\n",
    "        self.tree_level = tree_root\n",
    "        self.typ = 'Sourcefile'\n",
    "        self.lines = []\n",
    "    \n",
    "    def __str__(self):\n",
    "        return 'FILE '+self.name\n",
    "        \n",
    "    def add_line(self, string, fileobj):\n",
    "        self.lines.append(Line(string,fileobj))\n",
    "    \n",
    "    def scan(self):\n",
    "        context = []\n",
    "        context.append(self)\n",
    "        with open(self.name,'r') as src:\n",
    "            for line in src:\n",
    "                \n",
    "                self.lines.append(Line(line,src))\n",
    "                \n",
    "                # Parse line to update context\n",
    "                # (i.e. are we entering a new module/routine/function?)\n",
    "                \n",
    "                if len(self.lines[-1].bare) > 0 :\n",
    "                    output = line_to_context(self.lines[-1].bare,context)\n",
    "                \n",
    "                    if  not output == 0 and not output == 1 :\n",
    "                        print('WARNING: ',line)\n",
    "                        \n",
    "    def print_source(self):\n",
    "        for line in self.lines:\n",
    "            npartial = len(line.code)\n",
    "            if npartial > 1:\n",
    "                for ipar, code in enumerate(line.code):\n",
    "                    if ipar < npartial -1:\n",
    "                        print( code + ' & ' + line.comment[ipar])\n",
    "                    else:\n",
    "                        print( code + line.comment[ipar])\n",
    "                \n",
    "            else:\n",
    "                print (line.code[0] +' '+ line.comment[0])\n",
    "        \n",
    "    def print_bare_source(self):\n",
    "        for line in self.lines:\n",
    "            if not line.empty:\n",
    "                print(line.bare)\n",
    "                \n",
    "\n",
    "\n",
    "\n",
    "class Procedure(Codeblock):\n",
    "    \n",
    "    def __init__(self, name, argstring, parent):\n",
    "        super().__init__(name)\n",
    "        self.parent = parent\n",
    "        self.tree_level = parent.tree_level + 1\n",
    "        self.args, self.argstring = str_to_arg(argstring)\n",
    "        \n",
    "    \n",
    "        \n",
    "        \n",
    "\n",
    "class Subroutine(Procedure):\n",
    "    \n",
    "    def __init__(self,name,argstring,parent):\n",
    "        super().__init__(name, argstring, parent)\n",
    "        self.typ = 'Subroutine'\n",
    "    \n",
    "    def __str__(self):                \n",
    "        return 'SUBROUTINE '+self.name+' ('+self.argstring+')'\n",
    "\n",
    "\n",
    "class Function(Procedure):\n",
    "    \n",
    "    def __init__(self,name,argstring,parent):\n",
    "        super().__init__(name, argstring, parent)\n",
    "        self.typ = 'Function'\n",
    "    \n",
    "    def __str__(self):                \n",
    "        return 'FUNCTION '+self.name+' ('+self.argstring+')'\n",
    "\n",
    "\n",
    "        \n",
    "class Module(Codeblock):\n",
    "    \n",
    "    def __init__(self,name,parent):\n",
    "        super().__init__(name)\n",
    "        self.parent = parent\n",
    "        self.tree_level = parent.tree_level + 1\n",
    "        self.typ = 'Module'\n",
    "    \n",
    "    def __str__(self):\n",
    "        return 'MODULE '+self.name\n",
    "              \n",
    "\n",
    "def str_to_arg(string):\n",
    "    if string is None:\n",
    "        return None, ''\n",
    "    args = vars_rgx.findall(string)\n",
    "    argstring = ''\n",
    "    nargs = len(args)\n",
    "    if nargs == 0 :\n",
    "        return None, ''\n",
    "    else :\n",
    "        for iarg, arg in enumerate(args):\n",
    "            if iarg < nargs-1:\n",
    "                argstring += arg+', '\n",
    "            else:\n",
    "                argstring += arg\n",
    "        return args, argstring\n",
    "    #return args, argstring if len(args) > 0 else None, None\n",
    "    \n",
    "    \n",
    "def line_to_context(line, context):\n",
    "    \n",
    "    curr_context = context[-1]\n",
    "    \n",
    "    chk = 0\n",
    "    \n",
    "    #print(line)\n",
    "    \n",
    "    # CHECK USE STATEMENTS \n",
    "    mo = use_rgx.match(line)\n",
    "    if mo is not None:\n",
    "        chk += 1\n",
    "        curr_context.add_import(mo.group(1), mo.group(2))\n",
    "        return chk\n",
    "           \n",
    "    \n",
    "    # CHECK NEW SUBROUTINE\n",
    "    mo = subroutine_rgx.match(line)\n",
    "    if mo is not None:\n",
    "        chk += 1\n",
    "        context.append(Subroutine(mo.group(1), mo.group(2),curr_context))\n",
    "        curr_context.add_contains(context[-1])\n",
    "        return chk\n",
    "        \n",
    "    \n",
    "    # CHECK END SUBROUTINE\n",
    "    mo = endsubroutine_rgx.match(line)\n",
    "    if mo is not None:\n",
    "        chk += 1\n",
    "        check = mo.group(1) == curr_context.name\n",
    "        if not check:\n",
    "            print('WARNING: ',mo.group(1), curr_context.name, line)\n",
    "        context.pop()\n",
    "        return chk\n",
    "    \n",
    "    # CHECK NEW FUNCTION\n",
    "    mo = function_rgx.match(line)\n",
    "    if mo is not None:\n",
    "        chk += 1\n",
    "        context.append(Function(mo.group(1), mo.group(2),curr_context))\n",
    "        curr_context.add_contains(context[-1])\n",
    "        return chk\n",
    "    \n",
    "    # CHECK END FUNCTION\n",
    "    mo = endfunction_rgx.match(line)\n",
    "    if mo is not None:\n",
    "        chk += 1\n",
    "        context.pop()\n",
    "        return chk\n",
    "    \n",
    "    \n",
    "    # CHECK NEW MODULE\n",
    "    mo = module_rgx.match(line)\n",
    "    if mo is not None:\n",
    "        chk += 1\n",
    "        context.append(Module(mo.group(1),curr_context))\n",
    "        curr_context.add_contains(context[-1])\n",
    "        return chk\n",
    "        \n",
    "    # CHECK END MODULE\n",
    "    mo = endmodule_rgx.match(line)\n",
    "    if mo is not None:\n",
    "        chk += 1\n",
    "        context.pop()\n",
    "        return chk\n",
    "    \n",
    "    return chk\n",
    "    "
   ]
  },
  {
   "cell_type": "code",
   "execution_count": 33,
   "metadata": {
    "collapsed": false
   },
   "outputs": [
    {
     "name": "stdout",
     "output_type": "stream",
     "text": [
      "Scanning fake.f90\n",
      "PROJECT eQE\n",
      "  |\n",
      "   ---- FILE fake.f90\n",
      "      |\n",
      "      ---- MODULE funct\n",
      "         |\n",
      "         ---- SUBROUTINE set_screening_parameter (scrparm_)\n",
      "         |\n",
      "         ---- FUNCTION get_screening_parameter ()\n",
      "         |\n",
      "         ---- SUBROUTINE set_gau_parameter (gauparm_)\n",
      "         |\n",
      "         ---- FUNCTION get_gau_parameter ()\n",
      " !\n",
      " !-------------------------------------------------------------------\n",
      "module funct \n",
      " !-------------------------------------------------------------------\n",
      " !  derivatives of XC computation drivers: dmxc, dmxc_spin, dmxc_nc, dgcxc,\n",
      " !                                         dgcxc_spin\n",
      " !\n",
      "USE io_global, ONLY: stdout \n",
      "USE kinds,     ONLY: DP \n",
      "IMPLICIT NONE \n",
      " \n",
      "data exc / 'NOX', 'SLA', 'SL1', 'RXC', 'OEP', 'HF', 'PB0X', 'B3LP', 'KZK' / \n",
      "data corr / 'NOC', 'PZ', 'VWN', 'LYP', 'PW', 'WIG', 'HL', 'OBZ',  & \n",
      "'OBW', 'GL' , 'KZK' /\n",
      " \n",
      "data gradx / 'NOGX', 'B88', 'GGX', 'PBX',  'RPB', 'HCTH', 'OPTX', & \n",
      "'TPSS', 'PB0X', 'B3LP','PSX', 'WCX', 'HSE', 'RW86', 'PBE',  & \n",
      "'META', 'C09X', 'SOX', 'M6LX', 'Q2DX', 'GAUP', 'PW86', 'B86B',  & \n",
      "'OBK8', 'OB86', 'EVX', 'B86R' /\n",
      " \n",
      "data gradc / 'NOGC', 'P86', 'GGC', 'BLYP', 'PBC', 'HCTH', 'TPSS', & \n",
      "'B3LP', 'PSC', 'PBE', 'META', 'M6LC', 'Q2DC' /\n",
      " \n",
      "data nonlocc / '    ', 'VDW1', 'VDW2', 'VV10' / \n",
      " \n",
      "CONTAINS \n",
      " !---------------------------------------------------------------------\n",
      "subroutine set_screening_parameter (scrparm_) \n",
      "implicit none \n",
      "real(DP):: scrparm_ \n",
      "screening_parameter = scrparm_ \n",
      "write (stdout,'(5x,a,f12.7)') 'EXX Screening parameter changed: ',  & \n",
      "screening_parameter\n",
      "end subroutine set_screening_parameter \n",
      " !----------------------------------------------------------------------\n",
      "function get_screening_parameter () \n",
      "real(DP):: get_screening_parameter \n",
      "get_screening_parameter = screening_parameter \n",
      "return \n",
      "end function get_screening_parameter \n",
      " !-----------------------------------------------------------------------\n",
      "subroutine set_gau_parameter (gauparm_) \n",
      "implicit none \n",
      "real(DP):: gauparm_ \n",
      "gau_parameter = gauparm_ \n",
      "write (stdout,'(5x,a,f12.7)') 'EXX Gau parameter changed: ',  & \n",
      "gau_parameter\n",
      "end subroutine set_gau_parameter \n",
      " !----------------------------------------------------------------------\n",
      "function get_gau_parameter () \n",
      "real(DP):: get_gau_parameter \n",
      "get_gau_parameter = gau_parameter \n",
      "return \n",
      "end function get_gau_parameter \n",
      " !-----------------------------------------------------------------------\n",
      " \n",
      " \n",
      "end module funct \n"
     ]
    }
   ],
   "source": [
    "files = ['fake.f90']#,'fde_routines.f90']\n",
    "eQE = Project('eQE')\n",
    "for file in files:\n",
    "    eQE.add_sourcefile(file)\n",
    "eQE.scan_sources()\n",
    "eQE.make_project_tree()\n",
    "eQE.sources[0].print_source()\n"
   ]
  },
  {
   "cell_type": "code",
   "execution_count": 406,
   "metadata": {
    "collapsed": false
   },
   "outputs": [],
   "source": [
    "srcfile = 'funct.f90'\n",
    "\n",
    "src = Sourcefile(srcfile)\n",
    "\n",
    "src.scan()\n"
   ]
  },
  {
   "cell_type": "code",
   "execution_count": 407,
   "metadata": {
    "collapsed": false
   },
   "outputs": [
    {
     "data": {
      "text/plain": [
       "{'io_global': ['stdout'], 'kinds': ['DP']}"
      ]
     },
     "execution_count": 407,
     "metadata": {},
     "output_type": "execute_result"
    }
   ],
   "source": [
    "src.contains[0].imports"
   ]
  },
  {
   "cell_type": "code",
   "execution_count": 408,
   "metadata": {
    "collapsed": false
   },
   "outputs": [
    {
     "name": "stdout",
     "output_type": "stream",
     "text": [
      "---- funct.f90\n",
      "   |\n",
      "   ---- MODULE funct\n",
      "      |\n",
      "      ---- SUBROUTINE set_dft_from_name (dft_, nochecks_)\n",
      "      |\n",
      "      ---- SUBROUTINE set_auxiliary_flags ()\n",
      "      |\n",
      "      ---- SUBROUTINE set_dft_value (m, i)\n",
      "      |\n",
      "      ---- SUBROUTINE enforce_input_dft (dft_, nomsg)\n",
      "      |\n",
      "      ---- SUBROUTINE enforce_dft_exxrpa ()\n",
      "      |\n",
      "      ---- SUBROUTINE init_dft_exxrpa ()\n",
      "      |\n",
      "      ---- SUBROUTINE start_exx ()\n",
      "      |\n",
      "      ---- SUBROUTINE stop_exx ()\n",
      "      |\n",
      "      ---- FUNCTION exx_is_active ()\n",
      "      |\n",
      "      ---- SUBROUTINE set_exx_fraction (exxf_)\n",
      "      |\n",
      "      ---- SUBROUTINE set_screening_parameter (scrparm_)\n",
      "      |\n",
      "      ---- FUNCTION get_screening_parameter ()\n",
      "      |\n",
      "      ---- SUBROUTINE set_gau_parameter (gauparm_)\n",
      "      |\n",
      "      ---- FUNCTION get_gau_parameter ()\n",
      "      |\n",
      "      ---- FUNCTION get_iexch ()\n",
      "      |\n",
      "      ---- SUBROUTINE set_iexch (value)\n",
      "      |\n",
      "      ---- FUNCTION get_icorr ()\n",
      "      |\n",
      "      ---- SUBROUTINE set_icorr (value)\n",
      "      |\n",
      "      ---- FUNCTION get_igcx ()\n",
      "      |\n",
      "      ---- SUBROUTINE set_igcx (value)\n",
      "      |\n",
      "      ---- FUNCTION get_igcc ()\n",
      "      |\n",
      "      ---- SUBROUTINE set_igcc (value)\n",
      "      |\n",
      "      ---- FUNCTION get_inlc ()\n",
      "      |\n",
      "      ---- SUBROUTINE set_inlc (value)\n",
      "      |\n",
      "      ---- FUNCTION dft_is_nonlocc ()\n",
      "      |\n",
      "      ---- FUNCTION get_exx_fraction ()\n",
      "      |\n",
      "      ---- FUNCTION get_dft_name ()\n",
      "      |\n",
      "      ---- FUNCTION dft_is_gradient ()\n",
      "      |\n",
      "      ---- FUNCTION dft_is_meta ()\n",
      "      |\n",
      "      ---- FUNCTION dft_is_hybrid ()\n",
      "      |\n",
      "      ---- FUNCTION dft_has_finite_size_correction ()\n",
      "      |\n",
      "      ---- SUBROUTINE set_finite_size_volume (volume)\n",
      "      |\n",
      "      ---- SUBROUTINE set_dft_from_indices (iexch_, icorr_, igcx_, igcc_, inlc_)\n",
      "      |\n",
      "      ---- SUBROUTINE dft_name (iexch_, icorr_, igcx_, igcc_, inlc_, longname_, shortname_)\n",
      "      |\n",
      "      ---- SUBROUTINE write_dft_name ()\n",
      "      |\n",
      "      ---- SUBROUTINE xc (rho, ex, ec, vx, vc)\n",
      "      |\n",
      "      ---- SUBROUTINE xc_spin (rho, zeta, ex, ec, vxup, vxdw, vcup, vcdw)\n",
      "      |\n",
      "      ---- SUBROUTINE xc_spin_vec (rho, zeta, length, evx, evc)\n",
      "      |\n",
      "      ---- SUBROUTINE gcxc (rho, grho, sx, sc, v1x, v2x, v1c, v2c)\n",
      "      |\n",
      "      ---- SUBROUTINE gcx_spin (rhoup, rhodw, grhoup2, grhodw2, sx, v1xup, v1xdw, v2xup, v2xdw)\n",
      "      |\n",
      "      ---- SUBROUTINE gcx_spin_vec (rhoup, rhodw, grhoup2, grhodw2, sx, v1xup, v1xdw, v2xup, v2xdw, length)\n",
      "      |\n",
      "      ---- SUBROUTINE gcc_spin (rho, zeta, grho, sc, v1cup, v1cdw, v2c)\n",
      "      |\n",
      "      ---- SUBROUTINE gcc_spin_more (RHOA, RHOB, GRHOAA, GRHOBB, GRHOAB, SC, V1CA, V1CB, V2CA, V2CB, V2CAB)\n",
      "      |\n",
      "      ---- SUBROUTINE nlc (rho_valence, rho_core, nspin, enl, vnl, v)\n",
      "      |\n",
      "      ---- SUBROUTINE tau_xc (rho, grho, tau, ex, ec, v1x, v2x, v3x, v1c, v2c, v3c)\n",
      "      |\n",
      "      ---- SUBROUTINE tau_xc_spin (rhoup, rhodw, grhoup, grhodw, tauup, taudw, ex, ec, v1xup, v1xdw, v2xup, v2xdw, v3xup, v3xdw, v1cup, v1cdw, v2cup, v2cdw, v2cup_vec, v2cdw_vec, v3cup, v3cdw)\n",
      "      |\n",
      "      ---- FUNCTION dmxc (rho)\n",
      "      |\n",
      "      ---- SUBROUTINE dmxc_spin (rhoup, rhodw, dmuxc_uu, dmuxc_ud, dmuxc_du, dmuxc_dd)\n",
      "      |\n",
      "      ---- SUBROUTINE dmxc_nc (rho, mx, my, mz, dmuxc)\n",
      "      |\n",
      "      ---- SUBROUTINE dgcxc (r, s2, vrrx, vsrx, vssx, vrrc, vsrc, vssc)\n",
      "      |\n",
      "      ---- SUBROUTINE dgcxc_spin (rup, rdw, gup, gdw, vrrxup, vrrxdw, vrsxup, vrsxdw, vssxup, vssxdw, vrrcup, vrrcdw, vrscup, vrscdw, vssc, vrzcup, vrzcdw)\n",
      "      |\n",
      "      ---- SUBROUTINE vxc_t (rho, rhoc, lsd, vxc)\n",
      "      |\n",
      "      ---- FUNCTION exc_t (rho, rhoc, lsd)\n",
      "      |\n",
      "      ---- SUBROUTINE evxc_t_vec (rho, rhoc, lsd, length, vxc, exc)\n"
     ]
    }
   ],
   "source": [
    "src.print_contains()"
   ]
  },
  {
   "cell_type": "code",
   "execution_count": 365,
   "metadata": {
    "collapsed": false
   },
   "outputs": [
    {
     "name": "stdout",
     "output_type": "stream",
     "text": [
      "<__main__.Imports object at 0x7efde7f860f0>\n"
     ]
    }
   ],
   "source": [
    "print(src.contains[0].contains[0].imports)"
   ]
  },
  {
   "cell_type": "code",
   "execution_count": 65,
   "metadata": {
    "collapsed": false
   },
   "outputs": [
    {
     "name": "stdout",
     "output_type": "stream",
     "text": [
      "{'gvect': ['g'], 'fft_base': None, 'mp_bands': ['me_bgrp', 'nproc_bgrp', 'root_bgrp', 'intra_bgrp_comm']}\n",
      "False\n",
      "gvect\n",
      "fft_base\n",
      "mp_bands\n"
     ]
    }
   ],
   "source": [
    "lines = []\n",
    "lines.append('  USE mp_bands,   only : me_bgrp, nproc_bgrp, root_bgrp, intra_bgrp_comm')\n",
    "lines.append('  USE gvect,only:g  ')\n",
    "lines.append('use fft_base')\n",
    "imp = Imports()\n",
    "\n",
    "for line in lines:\n",
    "    mo = use_rgx.match(line)\n",
    "    if mo is not None:\n",
    "        imp.add_module(mo.group(1), mo.group(2))\n",
    "\n",
    "print(imp.modules)\n",
    "\n",
    "print('gvecl' in imp.modules)\n",
    "\n",
    "for module in imp.modules :\n",
    "    print(module)\n",
    "\n",
    "\n",
    "\n",
    "#vars_rgx.findall(mo.group(2))\n",
    "#if mo is not None:\n",
    "#    module_name = mo.group(1)\n",
    "#mo.groups()\n",
    "#print(mo.group(1))\n",
    "#print(mo.group(2))"
   ]
  },
  {
   "cell_type": "code",
   "execution_count": 71,
   "metadata": {
    "collapsed": false
   },
   "outputs": [
    {
     "ename": "IndentationError",
     "evalue": "expected an indented block (<ipython-input-71-8fd632af7845>, line 15)",
     "output_type": "error",
     "traceback": [
      "\u001b[1;36m  File \u001b[1;32m\"<ipython-input-71-8fd632af7845>\"\u001b[1;36m, line \u001b[1;32m15\u001b[0m\n\u001b[1;33m    src_file = 'data_structure.f90'\u001b[0m\n\u001b[1;37m           ^\u001b[0m\n\u001b[1;31mIndentationError\u001b[0m\u001b[1;31m:\u001b[0m expected an indented block\n"
     ]
    }
   ],
   "source": [
    "\n",
    "#def string_to_args(string, rgx):\n",
    "    \n",
    "    \n",
    "\n",
    "\n",
    "src_file = 'data_structure.f90'\n",
    "#src_file = 'recvec.f90'\n",
    "use_module_forbidden = ['fft_base','cell_base','gvect','gvecs','stick_set','wvfct','scf','ion_base','vlocal']\n",
    "with open(src_file) as src:\n",
    "    modules = []\n",
    "    subroutines = []\n",
    "    functions = []\n",
    "    in_module = False\n",
    "    in_subroutine = False\n",
    "    in_function = False\n",
    "    for line in src:\n",
    "        continue_line = True\n",
    "        try:\n",
    "            line = re.match(r'^.*?\\!', line).group(0)[:-1]\n",
    "        except:\n",
    "            pass\n",
    "        while continue_line:\n",
    "            try:\n",
    "                line = re.match(r'^.*?\\&', line).group(0)[:-1]\n",
    "                line2 = src.readline()\n",
    "                line = line + line2[re.match(r'\\s*', line2).span(0)[1]:]\n",
    "            except:\n",
    "                continue_line = False\n",
    "        line_s = line.split()\n",
    "        if len(line_s) > 0:\n",
    "            print(line)\n",
    "            if 'module ' in line or 'MODULE ' in line :\n",
    "                if not in_module :\n",
    "                    #print(line)\n",
    "                    in_module = True\n",
    "                    curr_module = line_s[1]\n",
    "                    modules.append(curr_module)\n",
    "                else:\n",
    "                    in_module = False\n",
    "\n",
    "            #while line_s[-1] == '&':\n",
    "                \n",
    "            #    prev_line = line\n",
    "                \n",
    "            #print (line)\n",
    "\n",
    "print(modules)\n",
    "        "
   ]
  },
  {
   "cell_type": "code",
   "execution_count": 52,
   "metadata": {
    "collapsed": true
   },
   "outputs": [],
   "source": [
    "lines = ['  USE mp_bands,   only : me_bgrp, nproc_bgrp, root_bgrp, intra_bgrp_comm, &\\n',\n",
    "'                         ntask_groups\\n']"
   ]
  },
  {
   "cell_type": "code",
   "execution_count": 32,
   "metadata": {
    "collapsed": false
   },
   "outputs": [
    {
     "name": "stdout",
     "output_type": "stream",
     "text": [
      "<_sre.SRE_Match object; span=(0, 75), match='  USE mp_bands,   ONLY : me_bgrp, nproc_bgrp, roo>\n",
      "None\n"
     ]
    }
   ],
   "source": [
    "for line in lines:\n",
    "    print(re.match(r'^.*?\\&', line))\n",
    "    #print(line)"
   ]
  },
  {
   "cell_type": "code",
   "execution_count": 70,
   "metadata": {
    "collapsed": false
   },
   "outputs": [
    {
     "name": "stdout",
     "output_type": "stream",
     "text": [
      "mp_bands\n",
      "USE mp_bands,   only : \n",
      "me_bgrp\n",
      "nproc_bgrp\n",
      "root_bgrp\n",
      "intra_bgrp_comm\n",
      "me_bgrp, nproc_bgrp, root_bgrp, intra_bgrp_comm, &\n",
      "\n"
     ]
    }
   ],
   "source": [
    "use_rgx = re.compile(r'USE\\s+(\\w+)',re.IGNORECASE)\n",
    "useonly_rgx = re.compile(r'USE\\s+(\\w+)(\\s*,\\s*ONLY\\s*:\\s*)+',re.IGNORECASE)\n",
    "vars_rgx = re.compile(r'(\\w+)')\n",
    "\n",
    "rgx = re.compile(r'USE\\s+(\\w+),\\s*ONLY\\s*:\\s*((\\w+)(,\\s*)?)+',re.IGNORECASE)\n",
    "rgx2 = re.compile(r'(\\w+)(,\\s*)?')\n",
    "mo = use_rgx.search(lines[0])\n",
    "#mo.group()\n",
    "if mo is not None:\n",
    "    module = mo.group(1)\n",
    "    print(module)\n",
    "    mo = useonly_rgx.search(lines[0])\n",
    "    if mo is not None:\n",
    "        print(mo.group())\n",
    "        vars_str = lines[0][mo.span()[1]:]\n",
    "        vars_list = vars_rgx.findall(vars_str)\n",
    "        for var in vars_list:\n",
    "            print(var)\n",
    "        print(lines[0][mo.span()[1]:])\n",
    "    else:\n",
    "        pass\n",
    "#    fall = rgx2.findall(lines[0])\n",
    "#    for mtch in fall:\n",
    "#        print(mtch[0])\n",
    "\n",
    "#mtch = re.match(r'USE', lines[0])\n",
    "#mtch\n",
    "#mtch = re.match(r'^\\S*?\\&', lines[0])"
   ]
  },
  {
   "cell_type": "code",
   "execution_count": 107,
   "metadata": {
    "collapsed": false
   },
   "outputs": [
    {
     "data": {
      "text/plain": [
       "'USE mp_bands,   ONLY : me_bgrp, nproc_bgrp, root_bgrp, intra_bgrp_comm, &\\n'"
      ]
     },
     "execution_count": 107,
     "metadata": {},
     "output_type": "execute_result"
    }
   ],
   "source": [
    "line = lines[0][re.match(r'\\s*', lines[0]).span(0)[1]:]\n",
    "#re.match(r'\\s*', lines[0]).span(0)[1]\n",
    "line"
   ]
  },
  {
   "cell_type": "code",
   "execution_count": 72,
   "metadata": {
    "collapsed": false
   },
   "outputs": [
    {
     "data": {
      "text/plain": [
       "['a', 'b', 'c']"
      ]
     },
     "execution_count": 72,
     "metadata": {},
     "output_type": "execute_result"
    }
   ],
   "source": [
    "a = ['a','b','c']\n",
    "a"
   ]
  },
  {
   "cell_type": "code",
   "execution_count": 73,
   "metadata": {
    "collapsed": false
   },
   "outputs": [
    {
     "data": {
      "text/plain": [
       "['a', 'b', 'c', 'd']"
      ]
     },
     "execution_count": 73,
     "metadata": {},
     "output_type": "execute_result"
    }
   ],
   "source": [
    "a.append('d')\n",
    "a"
   ]
  },
  {
   "cell_type": "code",
   "execution_count": 77,
   "metadata": {
    "collapsed": false
   },
   "outputs": [
    {
     "data": {
      "text/plain": [
       "'d'"
      ]
     },
     "execution_count": 77,
     "metadata": {},
     "output_type": "execute_result"
    }
   ],
   "source": [
    "a.pop()\n"
   ]
  },
  {
   "cell_type": "code",
   "execution_count": 78,
   "metadata": {
    "collapsed": false
   },
   "outputs": [
    {
     "data": {
      "text/plain": [
       "['a', 'b', 'c']"
      ]
     },
     "execution_count": 78,
     "metadata": {},
     "output_type": "execute_result"
    }
   ],
   "source": [
    "a"
   ]
  },
  {
   "cell_type": "code",
   "execution_count": null,
   "metadata": {
    "collapsed": true
   },
   "outputs": [],
   "source": []
  }
 ],
 "metadata": {
  "kernelspec": {
   "display_name": "Python 3",
   "language": "python",
   "name": "python3"
  },
  "language_info": {
   "codemirror_mode": {
    "name": "ipython",
    "version": 3
   },
   "file_extension": ".py",
   "mimetype": "text/x-python",
   "name": "python",
   "nbconvert_exporter": "python",
   "pygments_lexer": "ipython3",
   "version": "3.5.2+"
  },
  "widgets": {
   "state": {},
   "version": "1.1.2"
  }
 },
 "nbformat": 4,
 "nbformat_minor": 0
}
