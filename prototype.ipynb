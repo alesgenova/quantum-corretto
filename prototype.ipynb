{
 "cells": [
  {
   "cell_type": "code",
   "execution_count": 340,
   "metadata": {
    "collapsed": false
   },
   "outputs": [
    {
     "name": "stdout",
     "output_type": "stream",
     "text": [
      "The autoreload extension is already loaded. To reload it, use:\n",
      "  %reload_ext autoreload\n"
     ]
    }
   ],
   "source": [
    "import numpy as np\n",
    "from codeblocks import Project, Codeblock, Sourcefile, Module, Procedure, Function, Subroutine\n",
    "import deprecated_use as du\n",
    "import f90_regex as frgx\n",
    "\n",
    "%load_ext autoreload\n",
    "%autoreload 2"
   ]
  },
  {
   "cell_type": "code",
   "execution_count": 335,
   "metadata": {
    "collapsed": false,
    "scrolled": true
   },
   "outputs": [
    {
     "name": "stdout",
     "output_type": "stream",
     "text": [
      "Modules/recvec.f90\n",
      "PROJECT eQE\n",
      "  |\n",
      "   ---- FILE Modules/recvec.f90\n",
      "      |\n",
      "      ---- Module gvect\n",
      "         |\n",
      "         ---- SUBROUTINE gvect_init (ngm_, comm)\n",
      "         |\n",
      "         ---- SUBROUTINE deallocate_gvect ()\n",
      "         |\n",
      "         ---- SUBROUTINE deallocate_gvect_exx ()\n",
      "      |\n",
      "      ---- Module gvecs\n",
      "         |\n",
      "         ---- SUBROUTINE gvecs_init (ngs_, comm)\n",
      "         |\n",
      "         ---- SUBROUTINE deallocate_gvecs ()\n"
     ]
    }
   ],
   "source": [
    "#files = ['recvec.f90']#,'fde_routines.f90']\n",
    "root = \"/home/alessandro/QE/qe-6.1/\"\n",
    "files = !ls {root}Modules/*f90\n",
    "files1 = !ls {root}PW/src/*f90\n",
    "files=[root+'Modules/recvec.f90']\n",
    "\n",
    "#files.extend(files1)\n",
    "\n",
    "#files = ['recvec.f90']\n",
    "QE = Project('eQE', root)\n",
    "for file in files:\n",
    "    #print(file)\n",
    "    QE.add_sourcefile(file)\n",
    "    \n",
    "QE.scan_sources()\n",
    "QE.make_project_tree()\n",
    "#eQE.sources[0].print_source()\n"
   ]
  },
  {
   "cell_type": "code",
   "execution_count": 338,
   "metadata": {
    "collapsed": false
   },
   "outputs": [
    {
     "name": "stdout",
     "output_type": "stream",
     "text": [
      "Module gvect ['Modules/recvec.f90'] Modules/\n",
      "0\n"
     ]
    }
   ],
   "source": [
    "obj, location = QE.locate('gvect')\n",
    "print(str(obj), location, obj.parent.shortdir)\n",
    "print(len(obj.datatypes))\n",
    "for name, dt in obj.datatypes.items():\n",
    "    print(name)\n",
    "    for name, var in dt.declares.items():\n",
    "        print(name)\n",
    "        print(var)\n",
    "    break\n",
    "        \n",
    "#obj.shortdir+obj\n",
    "\n",
    "#location#gvect.declarations\n",
    "#if obj is not None: obj.objectify()"
   ]
  },
  {
   "cell_type": "code",
   "execution_count": 363,
   "metadata": {
    "collapsed": false
   },
   "outputs": [
    {
     "name": "stdout",
     "output_type": "stream",
     "text": [
      "2\n",
      "Module gvect Modules/recvec.f90\n",
      "Module gvecs Modules/recvec.f90\n"
     ]
    }
   ],
   "source": [
    "modules = QE.get_blocktypes(\"Module\")\n",
    "print(len(modules))\n",
    "for module in modules:\n",
    "    print(module.typ+\" \"+module.name, module.parent.name)\n",
    "    module.objectify()\n",
    "    #print(module.uses)"
   ]
  },
  {
   "cell_type": "code",
   "execution_count": 25,
   "metadata": {
    "collapsed": false
   },
   "outputs": [
    {
     "name": "stdout",
     "output_type": "stream",
     "text": [
      "ngm\n",
      "ngm_g\n",
      "ngl\n",
      "ngmx\n",
      "ecutrho\n",
      "gcutm\n",
      "nl\n",
      "nlm\n",
      "gstart\n",
      "gg\n",
      "gl\n",
      "igtongl\n",
      "g\n",
      "mill\n",
      "ig_l2g\n",
      "sortedig_l2g\n",
      "mill_g\n",
      "eigts1\n",
      "eigts2\n",
      "eigts3\n"
     ]
    }
   ],
   "source": [
    "for name,var in QE.locate('gvect')[0].declarations.items():\n",
    "    print(var['name'])\n",
    "    #print()\n"
   ]
  },
  {
   "cell_type": "code",
   "execution_count": 301,
   "metadata": {
    "collapsed": false
   },
   "outputs": [
    {
     "name": "stdout",
     "output_type": "stream",
     "text": [
      "of_r\n",
      "of_g\n",
      "kin_r\n",
      "kin_g\n",
      "ns\n",
      "ns_nc\n",
      "bec\n",
      "el_dipole\n",
      "rho\n",
      "v\n",
      "vnew\n",
      "v_of_0\n",
      "vltot\n",
      "vrs\n",
      "rho_core\n",
      "kedtau\n",
      "rhog_core\n",
      "record_length\n",
      "rlen_rho\n",
      "rlen_kin\n",
      "rlen_ldaU\n",
      "rlen_bec\n",
      "rlen_dip\n",
      "start_rho\n",
      "start_kin\n",
      "start_ldaU\n",
      "start_bec\n",
      "start_dipole\n",
      "lda_plus_u_co\n",
      "lda_plus_u_nc\n",
      "io_buffer\n"
     ]
    }
   ],
   "source": [
    "decl = QE.locate('scf')[0].declarations\n",
    "for key, var in decl.items():\n",
    "    print(key)"
   ]
  },
  {
   "cell_type": "code",
   "execution_count": null,
   "metadata": {
    "collapsed": false
   },
   "outputs": [],
   "source": [
    "files = !ls  /home/alessandro/QE/qe-6.0/PW/src/*f90\n",
    "files"
   ]
  },
  {
   "cell_type": "code",
   "execution_count": 305,
   "metadata": {
    "collapsed": false
   },
   "outputs": [
    {
     "data": {
      "text/plain": [
       "0"
      ]
     },
     "execution_count": 305,
     "metadata": {},
     "output_type": "execute_result"
    }
   ],
   "source": [
    "from collections import OrderedDict\n",
    "dic = {\"a\":1,\"b\":2}\n",
    "len(OrderedDict())"
   ]
  },
  {
   "cell_type": "code",
   "execution_count": 87,
   "metadata": {
    "collapsed": false
   },
   "outputs": [
    {
     "data": {
      "text/plain": [
       "'Modules'"
      ]
     },
     "execution_count": 87,
     "metadata": {},
     "output_type": "execute_result"
    }
   ],
   "source": [
    "import os\n",
    "filedir = os.path.dirname(file)\n",
    "os.path.relpath(os.path.dirname(file), start='/home/alessandro/QE/qe-6.1/')\n",
    "#os.path.split(os.path.split(file)[0])"
   ]
  }
 ],
 "metadata": {
  "kernelspec": {
   "display_name": "Python 3",
   "language": "python",
   "name": "python3"
  },
  "language_info": {
   "codemirror_mode": {
    "name": "ipython",
    "version": 3
   },
   "file_extension": ".py",
   "mimetype": "text/x-python",
   "name": "python",
   "nbconvert_exporter": "python",
   "pygments_lexer": "ipython3",
   "version": "3.6.0"
  },
  "widgets": {
   "state": {},
   "version": "1.1.1"
  }
 },
 "nbformat": 4,
 "nbformat_minor": 0
}
