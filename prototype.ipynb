{
 "cells": [
  {
   "cell_type": "code",
   "execution_count": 1,
   "metadata": {
    "collapsed": true
   },
   "outputs": [],
   "source": [
    "import numpy as np\n",
    "import codeblocks as cb\n",
    "import deprecated_use as du\n",
    "import f90_regex as frgx\n"
   ]
  },
  {
   "cell_type": "code",
   "execution_count": 2,
   "metadata": {
    "collapsed": false
   },
   "outputs": [
    {
     "name": "stdout",
     "output_type": "stream",
     "text": [
      "Scanning fake.f90\n",
      "PROJECT eQE\n",
      "  |\n",
      "   ---- FILE fake.f90\n",
      "      |\n",
      "      ---- MODULE funct\n",
      "         |\n",
      "         ---- SUBROUTINE set_screening_parameter (scrparm_)\n",
      "         |\n",
      "         ---- FUNCTION get_screening_parameter ()\n",
      "         |\n",
      "         ---- SUBROUTINE set_gau_parameter (gauparm_)\n",
      "         |\n",
      "         ---- FUNCTION get_gau_parameter ()\n",
      " !\n",
      " !-------------------------------------------------------------------\n",
      "module funct \n",
      " !-------------------------------------------------------------------\n",
      " !  derivatives of XC computation drivers: dmxc, dmxc_spin, dmxc_nc, dgcxc,\n",
      " !                                         dgcxc_spin\n",
      " !\n",
      "USE io_global, ONLY: stdout \n",
      "USE kinds,     ONLY: DP \n",
      "IMPLICIT NONE \n",
      " \n",
      "data exc / 'NOX', 'SLA', 'SL1', 'RXC', 'OEP', 'HF', 'PB0X', 'B3LP', 'KZK' / \n",
      "data corr / 'NOC', 'PZ', 'VWN', 'LYP', 'PW', 'WIG', 'HL', 'OBZ',  & \n",
      "'OBW', 'GL' , 'KZK' /\n",
      " \n",
      "data gradx / 'NOGX', 'B88', 'GGX', 'PBX',  'RPB', 'HCTH', 'OPTX', & \n",
      "'TPSS', 'PB0X', 'B3LP','PSX', 'WCX', 'HSE', 'RW86', 'PBE',  & \n",
      "'META', 'C09X', 'SOX', 'M6LX', 'Q2DX', 'GAUP', 'PW86', 'B86B',  & \n",
      "'OBK8', 'OB86', 'EVX', 'B86R' /\n",
      " \n",
      "data gradc / 'NOGC', 'P86', 'GGC', 'BLYP', 'PBC', 'HCTH', 'TPSS', & \n",
      "'B3LP', 'PSC', 'PBE', 'META', 'M6LC', 'Q2DC' /\n",
      " \n",
      "data nonlocc / '    ', 'VDW1', 'VDW2', 'VV10' / \n",
      " \n",
      "CONTAINS \n",
      " !---------------------------------------------------------------------\n",
      "subroutine set_screening_parameter (scrparm_) \n",
      "implicit none \n",
      "real(DP):: scrparm_ \n",
      "screening_parameter = scrparm_ \n",
      "write (stdout,'(5x,a,f12.7)') 'EXX Screening parameter changed: ',  & \n",
      "screening_parameter\n",
      "end subroutine set_screening_parameter \n",
      " !----------------------------------------------------------------------\n",
      "function get_screening_parameter () \n",
      "real(DP):: get_screening_parameter \n",
      "get_screening_parameter = screening_parameter \n",
      "return \n",
      "end function get_screening_parameter \n",
      " !-----------------------------------------------------------------------\n",
      "subroutine set_gau_parameter (gauparm_) \n",
      "implicit none \n",
      "real(DP):: gauparm_ \n",
      "gau_parameter = gauparm_ \n",
      "write (stdout,'(5x,a,f12.7)') 'EXX Gau parameter changed: ',  & \n",
      "gau_parameter\n",
      "end subroutine set_gau_parameter \n",
      " !----------------------------------------------------------------------\n",
      "function get_gau_parameter () \n",
      "real(DP):: get_gau_parameter \n",
      "get_gau_parameter = gau_parameter \n",
      "return \n",
      "end function get_gau_parameter \n",
      " !-----------------------------------------------------------------------\n",
      " \n",
      " \n",
      "end module funct \n"
     ]
    }
   ],
   "source": [
    "files = ['fake.f90']#,'fde_routines.f90']\n",
    "eQE = cb.Project('eQE')\n",
    "for file in files:\n",
    "    eQE.add_sourcefile(file)\n",
    "eQE.scan_sources()\n",
    "eQE.make_project_tree()\n",
    "eQE.sources[0].print_source()\n"
   ]
  },
  {
   "cell_type": "code",
   "execution_count": 3,
   "metadata": {
    "collapsed": false
   },
   "outputs": [],
   "source": [
    "srcfile = 'fake.f90'\n",
    "\n",
    "src = cb.Sourcefile(srcfile)\n",
    "\n",
    "src.scan()\n"
   ]
  },
  {
   "cell_type": "code",
   "execution_count": 5,
   "metadata": {
    "collapsed": false
   },
   "outputs": [
    {
     "name": "stdout",
     "output_type": "stream",
     "text": [
      "funct\n"
     ]
    }
   ],
   "source": [
    "for cont in src.contains:\n",
    "    print(cont)"
   ]
  },
  {
   "cell_type": "code",
   "execution_count": null,
   "metadata": {
    "collapsed": true
   },
   "outputs": [],
   "source": []
  }
 ],
 "metadata": {
  "kernelspec": {
   "display_name": "Python 3",
   "language": "python",
   "name": "python3"
  },
  "language_info": {
   "codemirror_mode": {
    "name": "ipython",
    "version": 3
   },
   "file_extension": ".py",
   "mimetype": "text/x-python",
   "name": "python",
   "nbconvert_exporter": "python",
   "pygments_lexer": "ipython3",
   "version": "3.5.2+"
  },
  "widgets": {
   "state": {},
   "version": "1.1.2"
  }
 },
 "nbformat": 4,
 "nbformat_minor": 0
}
