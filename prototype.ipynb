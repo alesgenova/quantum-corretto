{
 "cells": [
  {
   "cell_type": "code",
   "execution_count": 2,
   "metadata": {
    "collapsed": false
   },
   "outputs": [],
   "source": [
    "import numpy as np\n",
    "import codeblocks as cb\n",
    "import deprecated_use as du\n",
    "import f90_regex as frgx\n",
    "\n",
    "%load_ext autoreload\n",
    "%autoreload 2"
   ]
  },
  {
   "cell_type": "code",
   "execution_count": 22,
   "metadata": {
    "collapsed": false,
    "scrolled": true
   },
   "outputs": [
    {
     "name": "stdout",
     "output_type": "stream",
     "text": [
      "recvec.f90\n",
      "PROJECT eQE\n",
      "  |\n",
      "   ---- FILE recvec.f90\n",
      "      |\n",
      "      ---- MODULE gvect\n",
      "         |\n",
      "         ---- SUBROUTINE gvect_init (ngm_, comm)\n",
      "         |\n",
      "         ---- SUBROUTINE deallocate_gvect ()\n",
      "      |\n",
      "      ---- MODULE gvecs\n",
      "         |\n",
      "         ---- SUBROUTINE gvecs_init (ngs_, comm)\n",
      "         |\n",
      "         ---- SUBROUTINE deallocate_gvecs ()\n"
     ]
    }
   ],
   "source": [
    "files = ['recvec.f90']#,'fde_routines.f90']\n",
    "#files = !ls /home/alessandro/QE/qe-6.1/Modules/*f90\n",
    "#files=['/home/alessandro/QE/qe-6.0/Modules/noncol.f90']\n",
    "\n",
    "#files = ['recvec.f90']\n",
    "QE = cb.Project('eQE')\n",
    "for file in files:\n",
    "    QE.add_sourcefile(file)\n",
    "    \n",
    "QE.scan_sources()\n",
    "QE.make_project_tree()\n",
    "#eQE.sources[0].print_source()\n"
   ]
  },
  {
   "cell_type": "code",
   "execution_count": 26,
   "metadata": {
    "collapsed": false
   },
   "outputs": [
    {
     "data": {
      "text/plain": [
       "dict_keys(['recvec.f90'])"
      ]
     },
     "execution_count": 26,
     "metadata": {},
     "output_type": "execute_result"
    }
   ],
   "source": [
    "QE.sources.keys()"
   ]
  },
  {
   "cell_type": "code",
   "execution_count": 29,
   "metadata": {
    "collapsed": false
   },
   "outputs": [
    {
     "name": "stdout",
     "output_type": "stream",
     "text": [
      "ngm\n",
      "\n",
      "ngm_g\n",
      "\n",
      "ngl\n",
      "\n",
      "ngmx\n",
      "\n",
      "ecutrho\n",
      "\n",
      "gcutm\n",
      "\n",
      "nl\n",
      "\n",
      "nlm\n",
      "\n",
      "gstart\n",
      "\n",
      "gg\n",
      "\n",
      "gl\n",
      "\n",
      "igtongl\n",
      "\n",
      "g\n",
      "\n",
      "mill\n",
      "\n",
      "ig_l2g\n",
      "\n",
      "sortedig_l2g\n",
      "\n",
      "mill_g\n",
      "\n",
      "eigts1\n",
      "\n",
      "eigts2\n",
      "\n",
      "eigts3\n",
      "\n"
     ]
    }
   ],
   "source": [
    "for name,var in gvect.declarations.items():\n",
    "    print(var['name'])\n",
    "    print()\n"
   ]
  },
  {
   "cell_type": "code",
   "execution_count": null,
   "metadata": {
    "collapsed": false
   },
   "outputs": [],
   "source": [
    "for cont in src.contains:\n",
    "    print(cont)"
   ]
  },
  {
   "cell_type": "code",
   "execution_count": null,
   "metadata": {
    "collapsed": false
   },
   "outputs": [],
   "source": [
    "files = !ls  /home/alessandro/QE/qe-6.0/PW/src/*f90\n",
    "files"
   ]
  },
  {
   "cell_type": "code",
   "execution_count": 23,
   "metadata": {
    "collapsed": true
   },
   "outputs": [],
   "source": [
    "dic = {\"a\":1,\"b\":2}"
   ]
  },
  {
   "cell_type": "code",
   "execution_count": 26,
   "metadata": {
    "collapsed": false
   },
   "outputs": [
    {
     "data": {
      "text/plain": [
       "{'b': 2}"
      ]
     },
     "execution_count": 26,
     "metadata": {},
     "output_type": "execute_result"
    }
   ],
   "source": [
    "dic"
   ]
  }
 ],
 "metadata": {
  "kernelspec": {
   "display_name": "Python 3",
   "language": "python",
   "name": "python3"
  },
  "language_info": {
   "codemirror_mode": {
    "name": "ipython",
    "version": 3
   },
   "file_extension": ".py",
   "mimetype": "text/x-python",
   "name": "python",
   "nbconvert_exporter": "python",
   "pygments_lexer": "ipython3",
   "version": "3.6.0"
  },
  "widgets": {
   "state": {},
   "version": "1.1.1"
  }
 },
 "nbformat": 4,
 "nbformat_minor": 0
}
